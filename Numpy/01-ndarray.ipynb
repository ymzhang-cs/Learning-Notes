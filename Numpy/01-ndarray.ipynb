{
 "cells": [
  {
   "cell_type": "code",
   "execution_count": 1,
   "id": "initial_id",
   "metadata": {
    "collapsed": true,
    "ExecuteTime": {
     "end_time": "2024-07-01T16:55:36.629924900Z",
     "start_time": "2024-07-01T16:55:36.582273100Z"
    }
   },
   "outputs": [],
   "source": [
    "import numpy as np"
   ]
  },
  {
   "cell_type": "markdown",
   "source": [
    "## 创建数组/矩阵\n",
    "\n",
    "1. 使用np.array()函数，传入可迭代对象\n",
    "2. 使用np.arange()函数，传入起始值、终止值、步长\n",
    "3. 使用np.random.rand()函数，传入矩阵的形状，产生随机数矩阵\n",
    "4. 使用np.zeros()函数，传入矩阵的形状，产生全为0的矩阵\n",
    "5. 使用np.ones()函数，传入矩阵的形状，产生全为1的矩阵\n",
    "6. 使用np.eye()函数，传入矩阵的形状，产生单位矩阵"
   ],
   "metadata": {
    "collapsed": false
   },
   "id": "cbb483121c9699ab"
  },
  {
   "cell_type": "code",
   "execution_count": 4,
   "outputs": [
    {
     "data": {
      "text/plain": "array([1, 2, 3])"
     },
     "execution_count": 4,
     "metadata": {},
     "output_type": "execute_result"
    }
   ],
   "source": [
    "# 使用np.array()函数，传入可迭代对象\n",
    "np.array([1, 2, 3])"
   ],
   "metadata": {
    "collapsed": false,
    "ExecuteTime": {
     "end_time": "2024-07-01T16:57:57.475734900Z",
     "start_time": "2024-07-01T16:57:57.463681100Z"
    }
   },
   "id": "887964b5ef3c745a"
  },
  {
   "cell_type": "code",
   "execution_count": 6,
   "outputs": [
    {
     "data": {
      "text/plain": "array([0, 1, 2])"
     },
     "execution_count": 6,
     "metadata": {},
     "output_type": "execute_result"
    }
   ],
   "source": [
    "np.array(range(3))"
   ],
   "metadata": {
    "collapsed": false,
    "ExecuteTime": {
     "end_time": "2024-07-01T16:58:12.428044900Z",
     "start_time": "2024-07-01T16:58:12.420933300Z"
    }
   },
   "id": "237bbcbd46e64e00"
  },
  {
   "cell_type": "code",
   "execution_count": 11,
   "outputs": [
    {
     "data": {
      "text/plain": "array([1., 2., 3.])"
     },
     "execution_count": 11,
     "metadata": {},
     "output_type": "execute_result"
    }
   ],
   "source": [
    "# 使用astype()方法，转换数据类型\n",
    "np.array([1, 2, 3]).astype(float)"
   ],
   "metadata": {
    "collapsed": false,
    "ExecuteTime": {
     "end_time": "2024-07-01T17:00:21.034561400Z",
     "start_time": "2024-07-01T17:00:21.018389800Z"
    }
   },
   "id": "bb0aae706eede53f"
  },
  {
   "cell_type": "code",
   "execution_count": 8,
   "outputs": [
    {
     "data": {
      "text/plain": "array([1, 3, 5])"
     },
     "execution_count": 8,
     "metadata": {},
     "output_type": "execute_result"
    }
   ],
   "source": [
    "# 使用np.arange()函数，传入起始值、终止值、步长\n",
    "np.arange(1, 7, 2)"
   ],
   "metadata": {
    "collapsed": false,
    "ExecuteTime": {
     "end_time": "2024-07-01T16:58:32.041918700Z",
     "start_time": "2024-07-01T16:58:32.025073100Z"
    }
   },
   "id": "a0d2276f44d185b4"
  },
  {
   "cell_type": "code",
   "execution_count": 12,
   "outputs": [
    {
     "data": {
      "text/plain": "array([[0.00325812, 0.73336664, 0.16991259],\n       [0.28222472, 0.86298956, 0.73370647]])"
     },
     "execution_count": 12,
     "metadata": {},
     "output_type": "execute_result"
    }
   ],
   "source": [
    "# 使用np.random.rand()函数，传入矩阵的形状\n",
    "np.random.rand(2, 3)"
   ],
   "metadata": {
    "collapsed": false,
    "ExecuteTime": {
     "end_time": "2024-07-01T17:02:40.684933500Z",
     "start_time": "2024-07-01T17:02:40.670621900Z"
    }
   },
   "id": "24f6d768104adc28"
  },
  {
   "cell_type": "code",
   "execution_count": 13,
   "outputs": [
    {
     "data": {
      "text/plain": "array([[0., 0., 0.],\n       [0., 0., 0.]])"
     },
     "execution_count": 13,
     "metadata": {},
     "output_type": "execute_result"
    }
   ],
   "source": [
    "# 使用np.zeros()函数，传入矩阵的形状\n",
    "np.zeros((2, 3))"
   ],
   "metadata": {
    "collapsed": false,
    "ExecuteTime": {
     "end_time": "2024-07-01T17:02:46.425686700Z",
     "start_time": "2024-07-01T17:02:46.419117Z"
    }
   },
   "id": "c91aeb45e36dc3ee"
  },
  {
   "cell_type": "code",
   "execution_count": 15,
   "outputs": [
    {
     "data": {
      "text/plain": "array([[1., 1., 1.],\n       [1., 1., 1.]])"
     },
     "execution_count": 15,
     "metadata": {},
     "output_type": "execute_result"
    }
   ],
   "source": [
    "# 使用np.ones()函数，传入矩阵的形状\n",
    "np.ones((2, 3))"
   ],
   "metadata": {
    "collapsed": false,
    "ExecuteTime": {
     "end_time": "2024-07-01T17:02:52.878644600Z",
     "start_time": "2024-07-01T17:02:52.870842200Z"
    }
   },
   "id": "4d652fd999defbeb"
  },
  {
   "cell_type": "markdown",
   "source": [
    "## numpy数组的属性\n",
    "\n",
    "1. shape：数组的形状\n",
    "2. size：数组的元素个数\n",
    "3. dtype：数组的数据类型\n",
    "4. T：数组的转置\n",
    "5. ndim：数组的维度"
   ],
   "metadata": {
    "collapsed": false
   },
   "id": "f41a6fc52b325f11"
  },
  {
   "cell_type": "code",
   "execution_count": 21,
   "outputs": [
    {
     "data": {
      "text/plain": "array([[1, 2, 3],\n       [4, 5, 6]])"
     },
     "execution_count": 21,
     "metadata": {},
     "output_type": "execute_result"
    }
   ],
   "source": [
    "# 创建一个二维数组\n",
    "arr = np.array([[1, 2, 3], [4, 5, 6]])\n",
    "arr"
   ],
   "metadata": {
    "collapsed": false,
    "ExecuteTime": {
     "end_time": "2024-07-01T17:04:37.544537Z",
     "start_time": "2024-07-01T17:04:37.528254800Z"
    }
   },
   "id": "38f349f25b39c503"
  },
  {
   "cell_type": "code",
   "execution_count": 17,
   "outputs": [
    {
     "data": {
      "text/plain": "(2, 3)"
     },
     "execution_count": 17,
     "metadata": {},
     "output_type": "execute_result"
    }
   ],
   "source": [
    "# shape：数组的形状\n",
    "arr.shape"
   ],
   "metadata": {
    "collapsed": false,
    "ExecuteTime": {
     "end_time": "2024-07-01T17:04:08.241349300Z",
     "start_time": "2024-07-01T17:04:08.235893100Z"
    }
   },
   "id": "81a41168a7b9bf0a"
  },
  {
   "cell_type": "code",
   "execution_count": 18,
   "outputs": [
    {
     "data": {
      "text/plain": "6"
     },
     "execution_count": 18,
     "metadata": {},
     "output_type": "execute_result"
    }
   ],
   "source": [
    "# size：数组的元素个数\n",
    "arr.size"
   ],
   "metadata": {
    "collapsed": false,
    "ExecuteTime": {
     "end_time": "2024-07-01T17:04:10.575957600Z",
     "start_time": "2024-07-01T17:04:10.565975800Z"
    }
   },
   "id": "64c3fa14f3b3552b"
  },
  {
   "cell_type": "code",
   "execution_count": 19,
   "outputs": [
    {
     "data": {
      "text/plain": "dtype('int64')"
     },
     "execution_count": 19,
     "metadata": {},
     "output_type": "execute_result"
    }
   ],
   "source": [
    "# dtype：数组的数据类型\n",
    "arr.dtype"
   ],
   "metadata": {
    "collapsed": false,
    "ExecuteTime": {
     "end_time": "2024-07-01T17:04:14.010960100Z",
     "start_time": "2024-07-01T17:04:14.002933300Z"
    }
   },
   "id": "dc5754a71d7be2be"
  },
  {
   "cell_type": "code",
   "execution_count": 20,
   "outputs": [
    {
     "data": {
      "text/plain": "array([[1, 4],\n       [2, 5],\n       [3, 6]])"
     },
     "execution_count": 20,
     "metadata": {},
     "output_type": "execute_result"
    }
   ],
   "source": [
    "# T：数组的转置\n",
    "arr.T"
   ],
   "metadata": {
    "collapsed": false,
    "ExecuteTime": {
     "end_time": "2024-07-01T17:04:30.701878800Z",
     "start_time": "2024-07-01T17:04:30.698326Z"
    }
   },
   "id": "a3edb698728ec5bb"
  },
  {
   "cell_type": "code",
   "execution_count": 51,
   "outputs": [
    {
     "data": {
      "text/plain": "2"
     },
     "execution_count": 51,
     "metadata": {},
     "output_type": "execute_result"
    }
   ],
   "source": [
    "# ndim：数组的维度\n",
    "arr.ndim"
   ],
   "metadata": {
    "collapsed": false,
    "ExecuteTime": {
     "end_time": "2024-07-01T17:11:44.103720700Z",
     "start_time": "2024-07-01T17:11:44.099866800Z"
    }
   },
   "id": "b38f5e2ba7c17c7c"
  },
  {
   "cell_type": "code",
   "execution_count": 53,
   "outputs": [
    {
     "data": {
      "text/plain": "array([[[1, 2],\n        [3, 4]],\n\n       [[5, 6],\n        [7, 8]]])"
     },
     "execution_count": 53,
     "metadata": {},
     "output_type": "execute_result"
    }
   ],
   "source": [
    "# 创建一个三维数组\n",
    "arr = np.array([[[1, 2], [3, 4]], [[5, 6], [7, 8]]])\n",
    "arr"
   ],
   "metadata": {
    "collapsed": false,
    "ExecuteTime": {
     "end_time": "2024-07-01T17:11:55.459334Z",
     "start_time": "2024-07-01T17:11:55.451329900Z"
    }
   },
   "id": "65c4aef84cc23f68"
  },
  {
   "cell_type": "code",
   "execution_count": 54,
   "outputs": [
    {
     "data": {
      "text/plain": "(2, 2, 2)"
     },
     "execution_count": 54,
     "metadata": {},
     "output_type": "execute_result"
    }
   ],
   "source": [
    "arr.shape"
   ],
   "metadata": {
    "collapsed": false,
    "ExecuteTime": {
     "end_time": "2024-07-01T17:12:01.132622100Z",
     "start_time": "2024-07-01T17:12:01.129466300Z"
    }
   },
   "id": "c679c378083a0839"
  },
  {
   "cell_type": "code",
   "execution_count": 56,
   "outputs": [
    {
     "data": {
      "text/plain": "3"
     },
     "execution_count": 56,
     "metadata": {},
     "output_type": "execute_result"
    }
   ],
   "source": [
    "arr.ndim"
   ],
   "metadata": {
    "collapsed": false,
    "ExecuteTime": {
     "end_time": "2024-07-01T17:12:11.493557900Z",
     "start_time": "2024-07-01T17:12:11.492128800Z"
    }
   },
   "id": "a5a248ae0ddd4ca2"
  },
  {
   "cell_type": "markdown",
   "source": [
    "## 数组的运算操作"
   ],
   "metadata": {
    "collapsed": false
   },
   "id": "6070b32b78d6d09c"
  },
  {
   "cell_type": "markdown",
   "source": [
    "#### 数学运算\n",
    "1. round()：对数组中的元素进行四舍五入\n",
    "2. sum()：对数组中的元素求和\n",
    "3. mean()：对数组中的元素求平均值\n",
    "4. max()：对数组中的元素求最大值\n",
    "5. min()：对数组中的元素求最小值"
   ],
   "metadata": {
    "collapsed": false
   },
   "id": "ca44532ea60272bb"
  },
  {
   "cell_type": "code",
   "execution_count": 35,
   "outputs": [
    {
     "data": {
      "text/plain": "array([[0.53747757, 0.48211386, 0.37615603],\n       [0.11373381, 0.49288539, 0.43029566]])"
     },
     "execution_count": 35,
     "metadata": {},
     "output_type": "execute_result"
    }
   ],
   "source": [
    "# 创建一个二维数组\n",
    "arr = np.random.rand(2, 3)\n",
    "arr"
   ],
   "metadata": {
    "collapsed": false,
    "ExecuteTime": {
     "end_time": "2024-07-01T17:06:39.028363900Z",
     "start_time": "2024-07-01T17:06:39.012336400Z"
    }
   },
   "id": "d2e6c10e26fb2a97"
  },
  {
   "cell_type": "code",
   "execution_count": 36,
   "outputs": [
    {
     "data": {
      "text/plain": "array([[0.54, 0.48, 0.38],\n       [0.11, 0.49, 0.43]])"
     },
     "execution_count": 36,
     "metadata": {},
     "output_type": "execute_result"
    }
   ],
   "source": [
    "# round()：对数组中的元素进行四舍五入\n",
    "arr.round(2)"
   ],
   "metadata": {
    "collapsed": false,
    "ExecuteTime": {
     "end_time": "2024-07-01T17:06:39.786684300Z",
     "start_time": "2024-07-01T17:06:39.770808100Z"
    }
   },
   "id": "8e5eafbd00281f7b"
  },
  {
   "cell_type": "code",
   "execution_count": 37,
   "outputs": [
    {
     "data": {
      "text/plain": "np.float64(2.4326623184640206)"
     },
     "execution_count": 37,
     "metadata": {},
     "output_type": "execute_result"
    }
   ],
   "source": [
    "# sum()：对数组中的元素求和\n",
    "arr.sum()"
   ],
   "metadata": {
    "collapsed": false,
    "ExecuteTime": {
     "end_time": "2024-07-01T17:06:40.540750800Z",
     "start_time": "2024-07-01T17:06:40.534347800Z"
    }
   },
   "id": "8b01440b2ccc98c7"
  },
  {
   "cell_type": "code",
   "execution_count": 38,
   "outputs": [
    {
     "data": {
      "text/plain": "np.float64(0.40544371974400345)"
     },
     "execution_count": 38,
     "metadata": {},
     "output_type": "execute_result"
    }
   ],
   "source": [
    "# mean()：对数组中的元素求平均值\n",
    "arr.mean()"
   ],
   "metadata": {
    "collapsed": false,
    "ExecuteTime": {
     "end_time": "2024-07-01T17:06:40.999070600Z",
     "start_time": "2024-07-01T17:06:40.983764900Z"
    }
   },
   "id": "c31c1b187fb5856d"
  },
  {
   "cell_type": "code",
   "execution_count": 39,
   "outputs": [
    {
     "data": {
      "text/plain": "np.float64(0.5374775678387022)"
     },
     "execution_count": 39,
     "metadata": {},
     "output_type": "execute_result"
    }
   ],
   "source": [
    "# max()：对数组中的元素求最大值\n",
    "arr.max()"
   ],
   "metadata": {
    "collapsed": false,
    "ExecuteTime": {
     "end_time": "2024-07-01T17:06:41.403540700Z",
     "start_time": "2024-07-01T17:06:41.394937400Z"
    }
   },
   "id": "a8e37b50c6e00dc8"
  },
  {
   "cell_type": "code",
   "execution_count": 40,
   "outputs": [
    {
     "data": {
      "text/plain": "np.float64(0.113733812412799)"
     },
     "execution_count": 40,
     "metadata": {},
     "output_type": "execute_result"
    }
   ],
   "source": [
    "# min()：对数组中的元素求最小值\n",
    "arr.min()"
   ],
   "metadata": {
    "collapsed": false,
    "ExecuteTime": {
     "end_time": "2024-07-01T17:06:42.046934400Z",
     "start_time": "2024-07-01T17:06:42.043979900Z"
    }
   },
   "id": "e4f7c4477558e5f0"
  },
  {
   "cell_type": "markdown",
   "source": [
    "### 数组间的运算\n",
    "\n",
    "1. 加法：数组之间的加法运算\n",
    "    - 若两个数组的形状相同，则对应位置的元素相加\n",
    "    - 若两个数组的形状不同，但满足广播机制，则进行广播运算\n",
    "        - 广播机制：两个数组的形状分别从末尾开始比较，若对应维度的长度相等或其中一个维度的长度为1，则认为满足广播机制\n",
    "            - 后缘维度：两个数组的维度从末尾开始比较\n",
    "                - 例如：(3, 4, 5)和(4, 5)满足广播机制\n",
    "                - 例如：(3, 4, 5)和(5)满足广播机制\n",
    "                - 例如：(3, 4, 5)和(3, 1, 5)满足广播机制\n",
    "                - 例如：(3, 4, 5)和(3, 4, 1)满足广播机制\n",
    "                - 反例：(3, 4, 5)和(3, 5)不满足广播机制\n",
    "                - 反例：(3, 4, 5)和(4, 3, 5)不满足广播机制\n",
    "    - 若两个数组的形状不同，且不满足广播机制，则抛出异常\n",
    "2. 减法：数组之间的减法运算\n",
    "3. 乘法：数组之间的乘法运算\n",
    "    - 若两个数组的形状相同，则对应位置的元素相乘\n",
    "    - 若两个数组的形状不同，但满足广播机制，则进行广播运算\n",
    "4. 除法：数组之间的除法运算\n",
    "5. 矩阵乘法：使用np.dot()函数进行矩阵乘法运算\n",
    "6. 矩阵点乘：使用np.multiply()函数进行矩阵点乘运算\n",
    "    - 对应位置的元素相乘\n",
    "    - 若两个数组的形状不同，但满足广播机制，则进行广播运算\n",
    "7. 矩阵点除：使用np.divide()函数进行矩阵点除运算\n",
    "8. 矩阵点幂：使用np.power()函数进行矩阵点幂运算\n",
    "9. 矩阵点余：使用np.mod()函数进行矩阵点余运算\n",
    "10. 矩阵点商：使用np.divmod()函数进行矩阵点商运算\n",
    "11. 矩阵点除法取整：使用np.floor_divide()函数进行矩阵点除法取整运算\n",
    "12. 矩阵点除法取余：使用np.remainder()函数进行矩阵点除法取余运算"
   ],
   "metadata": {
    "collapsed": false
   },
   "id": "da5e159f0fe673bf"
  },
  {
   "cell_type": "markdown",
   "source": [
    "### 数组结构运算\n",
    "\n",
    "1. reshape()：改变数组的形状\n",
    "2. flatten()：将数组展平为一维数组\n",
    "3. ravel()：将数组展平为一维数组\n",
    "4. transpose()：对数组进行转置 或 T"
   ],
   "metadata": {
    "collapsed": false
   },
   "id": "48d7ebbf922529a9"
  },
  {
   "cell_type": "code",
   "execution_count": 45,
   "outputs": [
    {
     "data": {
      "text/plain": "array([[1., 8., 1.],\n       [2., 9., 5.]])"
     },
     "execution_count": 45,
     "metadata": {},
     "output_type": "execute_result"
    }
   ],
   "source": [
    "# 创建一个二维数组\n",
    "arr = (np.random.rand(2, 3)*10).round()\n",
    "arr"
   ],
   "metadata": {
    "collapsed": false,
    "ExecuteTime": {
     "end_time": "2024-07-01T17:10:11.519713300Z",
     "start_time": "2024-07-01T17:10:11.511318900Z"
    }
   },
   "id": "810498b53e3a8dbd"
  },
  {
   "cell_type": "code",
   "execution_count": 46,
   "outputs": [
    {
     "data": {
      "text/plain": "array([[1., 8.],\n       [1., 2.],\n       [9., 5.]])"
     },
     "execution_count": 46,
     "metadata": {},
     "output_type": "execute_result"
    }
   ],
   "source": [
    "# reshape()：改变数组的形状\n",
    "arr.reshape(3, 2)"
   ],
   "metadata": {
    "collapsed": false,
    "ExecuteTime": {
     "end_time": "2024-07-01T17:10:19.720227Z",
     "start_time": "2024-07-01T17:10:19.703093200Z"
    }
   },
   "id": "f1d1608a4c211e3e"
  },
  {
   "cell_type": "code",
   "execution_count": 47,
   "outputs": [
    {
     "data": {
      "text/plain": "array([1., 8., 1., 2., 9., 5.])"
     },
     "execution_count": 47,
     "metadata": {},
     "output_type": "execute_result"
    }
   ],
   "source": [
    "# flatten()：将数组展平为一维数组\n",
    "arr.flatten()"
   ],
   "metadata": {
    "collapsed": false,
    "ExecuteTime": {
     "end_time": "2024-07-01T17:10:27.309516700Z",
     "start_time": "2024-07-01T17:10:27.293444300Z"
    }
   },
   "id": "98543ffcab2ab4be"
  },
  {
   "cell_type": "code",
   "execution_count": 48,
   "outputs": [
    {
     "data": {
      "text/plain": "array([1., 8., 1., 2., 9., 5.])"
     },
     "execution_count": 48,
     "metadata": {},
     "output_type": "execute_result"
    }
   ],
   "source": [
    "# ravel()：将数组展平为一维数组\n",
    "arr.ravel()"
   ],
   "metadata": {
    "collapsed": false,
    "ExecuteTime": {
     "end_time": "2024-07-01T17:10:32.485188200Z",
     "start_time": "2024-07-01T17:10:32.481618400Z"
    }
   },
   "id": "3133d85827b2ec8f"
  },
  {
   "cell_type": "code",
   "execution_count": 49,
   "outputs": [
    {
     "data": {
      "text/plain": "array([[1., 2.],\n       [8., 9.],\n       [1., 5.]])"
     },
     "execution_count": 49,
     "metadata": {},
     "output_type": "execute_result"
    }
   ],
   "source": [
    "# transpose()：对数组进行转置 或 T\n",
    "arr.transpose()"
   ],
   "metadata": {
    "collapsed": false,
    "ExecuteTime": {
     "end_time": "2024-07-01T17:10:38.575755700Z",
     "start_time": "2024-07-01T17:10:38.560069600Z"
    }
   },
   "id": "3ec50a29a00b476f"
  },
  {
   "cell_type": "code",
   "execution_count": 50,
   "outputs": [
    {
     "data": {
      "text/plain": "array([[1., 2.],\n       [8., 9.],\n       [1., 5.]])"
     },
     "execution_count": 50,
     "metadata": {},
     "output_type": "execute_result"
    }
   ],
   "source": [
    "arr.T"
   ],
   "metadata": {
    "collapsed": false,
    "ExecuteTime": {
     "end_time": "2024-07-01T17:10:40.047927500Z",
     "start_time": "2024-07-01T17:10:40.043525Z"
    }
   },
   "id": "6ddb216eed35be1e"
  },
  {
   "cell_type": "code",
   "execution_count": null,
   "outputs": [],
   "source": [],
   "metadata": {
    "collapsed": false
   },
   "id": "9e5a6ebfca0d5b2c"
  }
 ],
 "metadata": {
  "kernelspec": {
   "display_name": "Python 3",
   "language": "python",
   "name": "python3"
  },
  "language_info": {
   "codemirror_mode": {
    "name": "ipython",
    "version": 2
   },
   "file_extension": ".py",
   "mimetype": "text/x-python",
   "name": "python",
   "nbconvert_exporter": "python",
   "pygments_lexer": "ipython2",
   "version": "2.7.6"
  }
 },
 "nbformat": 4,
 "nbformat_minor": 5
}
