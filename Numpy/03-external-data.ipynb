{
 "cells": [
  {
   "cell_type": "code",
   "execution_count": 1,
   "id": "initial_id",
   "metadata": {
    "collapsed": true,
    "ExecuteTime": {
     "end_time": "2024-07-02T04:02:03.410285400Z",
     "start_time": "2024-07-02T04:02:03.368669700Z"
    }
   },
   "outputs": [],
   "source": [
    "import numpy as np"
   ]
  },
  {
   "cell_type": "markdown",
   "source": [
    "## 使用numpy读取外部数据\n",
    "\n",
    "但一般使用pandas读取外部数据，因为pandas更加方便。\n",
    "\n",
    "1. np.loadtxt()\n",
    "2. np.genfromtxt()\n",
    "\n",
    "二者区别：genfromtxt()可以处理缺失值，loadtxt()不可以"
   ],
   "metadata": {
    "collapsed": false
   },
   "id": "7df21e966d248111"
  },
  {
   "cell_type": "code",
   "execution_count": 7,
   "outputs": [
    {
     "data": {
      "text/plain": "array([[   3407,     672,  135612],\n       [  76779,    4306, 1758063],\n       [  63825,    3338, 1564007],\n       ...,\n       [  10259,     416,  386360],\n       [   2981,      72,  431421],\n       [   5198,     443,  226152]])"
     },
     "execution_count": 7,
     "metadata": {},
     "output_type": "execute_result"
    }
   ],
   "source": [
    "# 使用np.loadtxt()读取外部数据\n",
    "np.loadtxt('datasets/videos-stats.csv', delimiter=',', skiprows=1).astype(int)"
   ],
   "metadata": {
    "collapsed": false,
    "ExecuteTime": {
     "end_time": "2024-07-02T04:14:31.110170900Z",
     "start_time": "2024-07-02T04:14:31.094313100Z"
    }
   },
   "id": "1440b8436db4d9ff"
  },
  {
   "cell_type": "code",
   "execution_count": 8,
   "outputs": [
    {
     "data": {
      "text/plain": "array([[   3407,     672,  135612],\n       [  76779,    4306, 1758063],\n       [  63825,    3338, 1564007],\n       ...,\n       [  10259,     416,  386360],\n       [   2981,      72,  431421],\n       [   5198,     443,  226152]])"
     },
     "execution_count": 8,
     "metadata": {},
     "output_type": "execute_result"
    }
   ],
   "source": [
    "# 使用np.genfromtxt()读取外部数据\n",
    "np.genfromtxt('datasets/videos-stats.csv', delimiter=',', skip_header=1).astype(int)"
   ],
   "metadata": {
    "collapsed": false,
    "ExecuteTime": {
     "end_time": "2024-07-02T04:14:48.827782400Z",
     "start_time": "2024-07-02T04:14:48.811615200Z"
    }
   },
   "id": "150814bb89ab63c8"
  },
  {
   "cell_type": "code",
   "execution_count": null,
   "outputs": [],
   "source": [],
   "metadata": {
    "collapsed": false
   },
   "id": "d6f04f882453f9f7"
  }
 ],
 "metadata": {
  "kernelspec": {
   "display_name": "Python 3",
   "language": "python",
   "name": "python3"
  },
  "language_info": {
   "codemirror_mode": {
    "name": "ipython",
    "version": 2
   },
   "file_extension": ".py",
   "mimetype": "text/x-python",
   "name": "python",
   "nbconvert_exporter": "python",
   "pygments_lexer": "ipython2",
   "version": "2.7.6"
  }
 },
 "nbformat": 4,
 "nbformat_minor": 5
}
