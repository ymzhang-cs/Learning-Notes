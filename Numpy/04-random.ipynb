{
 "cells": [
  {
   "cell_type": "code",
   "execution_count": 1,
   "id": "initial_id",
   "metadata": {
    "collapsed": true,
    "ExecuteTime": {
     "end_time": "2024-07-02T04:39:35.099750600Z",
     "start_time": "2024-07-02T04:39:35.056340500Z"
    }
   },
   "outputs": [],
   "source": [
    "import numpy as np"
   ]
  },
  {
   "cell_type": "markdown",
   "source": [
    "## numpy生成随机数\n",
    "\n",
    "1. np.rand(d0, d1, ..., dn) 生成一个[0, 1)之间的随机浮点数或N维浮点数组\n",
    "2. np.randn(d0, d1, ..., dn) 生成一个浮点数或N维浮点数组，取数范围是一个标准正态分布\n",
    "3. np.randint(low, high, size) 生成一个[low, high)之间的整数或N维整数数组\n",
    "4. np.random.choice(a, size, replace=True, p) 从a(数组)中生成随机数，size是生成的随机数的个数，replace表示是否可以重复抽取，p是a中每个元素出现的概率\n",
    "5. np.random.uniform(low, high, size) 生成一个[low, high)之间的随机浮点数或N维浮点数组\n",
    "6. np.random.normal(loc, scale, size) 生成一个具有正态分布的随机数或N维随机数组\n",
    "7. np.random.shuffle(a) 将一个数组a打乱\n",
    "8. np.random.permutation(a) 返回一个打乱的数组，不改变原数组\n",
    "9. np.random.seed(s) 设置随机数种子，使得每次生成的随机数相同"
   ],
   "metadata": {
    "collapsed": false
   },
   "id": "e851daab6c7a9c26"
  },
  {
   "cell_type": "code",
   "execution_count": 2,
   "outputs": [
    {
     "data": {
      "text/plain": "0.26405459413040167"
     },
     "execution_count": 2,
     "metadata": {},
     "output_type": "execute_result"
    }
   ],
   "source": [
    "# 生成一个[0, 1)之间的随机浮点数\n",
    "np.random.rand()"
   ],
   "metadata": {
    "collapsed": false,
    "ExecuteTime": {
     "end_time": "2024-07-02T04:41:29.578423800Z",
     "start_time": "2024-07-02T04:41:29.561527900Z"
    }
   },
   "id": "2d3513af34ec311c"
  },
  {
   "cell_type": "code",
   "execution_count": 3,
   "outputs": [
    {
     "data": {
      "text/plain": "array([[0.05941915, 0.55690665, 0.60932952],\n       [0.02429756, 0.53115713, 0.74037003]])"
     },
     "execution_count": 3,
     "metadata": {},
     "output_type": "execute_result"
    }
   ],
   "source": [
    "# 生成一个[0, 1)之间的N维浮点数组\n",
    "np.random.rand(2, 3)"
   ],
   "metadata": {
    "collapsed": false,
    "ExecuteTime": {
     "end_time": "2024-07-02T04:41:36.505409400Z",
     "start_time": "2024-07-02T04:41:36.498631800Z"
    }
   },
   "id": "7ef7ba74e72eed"
  },
  {
   "cell_type": "code",
   "execution_count": 4,
   "outputs": [
    {
     "data": {
      "text/plain": "array([[ 0.84217292,  1.00697587,  0.27415332],\n       [-0.24685128,  0.69159445, -0.36573804]])"
     },
     "execution_count": 4,
     "metadata": {},
     "output_type": "execute_result"
    }
   ],
   "source": [
    "# 生成一个浮点数或N维浮点数组，取数范围是一个标准正态分布\n",
    "np.random.randn(2, 3)"
   ],
   "metadata": {
    "collapsed": false,
    "ExecuteTime": {
     "end_time": "2024-07-02T04:41:47.207327800Z",
     "start_time": "2024-07-02T04:41:47.205066700Z"
    }
   },
   "id": "61d470035fdb33d8"
  },
  {
   "cell_type": "code",
   "execution_count": 5,
   "outputs": [
    {
     "data": {
      "text/plain": "array([[2, 9, 5],\n       [7, 3, 3]], dtype=int32)"
     },
     "execution_count": 5,
     "metadata": {},
     "output_type": "execute_result"
    }
   ],
   "source": [
    "# 生成一个[low, high)之间的整数或N维整数数组\n",
    "np.random.randint(1, 10, (2, 3))"
   ],
   "metadata": {
    "collapsed": false,
    "ExecuteTime": {
     "end_time": "2024-07-02T04:41:53.389714300Z",
     "start_time": "2024-07-02T04:41:53.384922800Z"
    }
   },
   "id": "67103e6349bb200e"
  },
  {
   "cell_type": "code",
   "execution_count": 7,
   "outputs": [
    {
     "data": {
      "text/plain": "array([2, 5, 4])"
     },
     "execution_count": 7,
     "metadata": {},
     "output_type": "execute_result"
    }
   ],
   "source": [
    "# 从a(数组)中生成随机数，size是生成的随机数的个数，replace表示是否可以重复抽取，p是a中每个元素出现的概率\n",
    "np.random.choice([1, 2, 3, 4, 5], 3, replace=False, p=[0.1, 0.1, 0.1, 0.1, 0.6])"
   ],
   "metadata": {
    "collapsed": false,
    "ExecuteTime": {
     "end_time": "2024-07-02T04:42:16.046227900Z",
     "start_time": "2024-07-02T04:42:16.040174700Z"
    }
   },
   "id": "c244e168f45a8a9b"
  },
  {
   "cell_type": "code",
   "execution_count": 8,
   "outputs": [
    {
     "data": {
      "text/plain": "array([[8.66485901, 9.28528947, 9.82588502],\n       [7.72640665, 1.90397657, 9.07583353]])"
     },
     "execution_count": 8,
     "metadata": {},
     "output_type": "execute_result"
    }
   ],
   "source": [
    "# 生成一个[low, high)之间的随机浮点数或N维浮点数组\n",
    "np.random.uniform(1, 10, (2, 3))"
   ],
   "metadata": {
    "collapsed": false,
    "ExecuteTime": {
     "end_time": "2024-07-02T04:42:26.168372200Z",
     "start_time": "2024-07-02T04:42:26.160765300Z"
    }
   },
   "id": "79593353c9bc62c6"
  },
  {
   "cell_type": "code",
   "execution_count": 9,
   "outputs": [
    {
     "data": {
      "text/plain": "array([[ 0.5260674 , -1.08987443, -0.59485993],\n       [-0.44239373,  0.13965202, -0.33179984]])"
     },
     "execution_count": 9,
     "metadata": {},
     "output_type": "execute_result"
    }
   ],
   "source": [
    "# 生成一个具有正态分布的随机数或N维随机数组\n",
    "np.random.normal(0, 1, (2, 3))"
   ],
   "metadata": {
    "collapsed": false,
    "ExecuteTime": {
     "end_time": "2024-07-02T04:42:31.273264700Z",
     "start_time": "2024-07-02T04:42:31.265401600Z"
    }
   },
   "id": "271b9359fc32b0d2"
  },
  {
   "cell_type": "code",
   "execution_count": 11,
   "outputs": [
    {
     "data": {
      "text/plain": "array([4, 9, 2, 6, 5, 7, 0, 1, 8, 3])"
     },
     "execution_count": 11,
     "metadata": {},
     "output_type": "execute_result"
    }
   ],
   "source": [
    "# 将一个数组a打乱\n",
    "a = np.arange(10)\n",
    "np.random.shuffle(a)\n",
    "a"
   ],
   "metadata": {
    "collapsed": false,
    "ExecuteTime": {
     "end_time": "2024-07-02T04:42:42.785993200Z",
     "start_time": "2024-07-02T04:42:42.781187300Z"
    }
   },
   "id": "e7f04210440477c4"
  },
  {
   "cell_type": "code",
   "execution_count": 12,
   "outputs": [
    {
     "data": {
      "text/plain": "array([6, 8, 3, 7, 1, 0, 5, 4, 9, 2])"
     },
     "execution_count": 12,
     "metadata": {},
     "output_type": "execute_result"
    }
   ],
   "source": [
    "# 返回一个打乱的数组，不改变原数组\n",
    "a = np.arange(10)\n",
    "np.random.permutation(a)"
   ],
   "metadata": {
    "collapsed": false,
    "ExecuteTime": {
     "end_time": "2024-07-02T04:42:49.733090500Z",
     "start_time": "2024-07-02T04:42:49.717375600Z"
    }
   },
   "id": "ad48917c14927cfd"
  },
  {
   "cell_type": "code",
   "execution_count": 15,
   "outputs": [
    {
     "data": {
      "text/plain": "0.5488135039273248"
     },
     "execution_count": 15,
     "metadata": {},
     "output_type": "execute_result"
    }
   ],
   "source": [
    "# 设置随机数种子，使得每次生成的随机数相同\n",
    "np.random.seed(0)\n",
    "np.random.rand()"
   ],
   "metadata": {
    "collapsed": false,
    "ExecuteTime": {
     "end_time": "2024-07-02T04:43:13.672380500Z",
     "start_time": "2024-07-02T04:43:13.656265400Z"
    }
   },
   "id": "e98a498215f90dbf"
  },
  {
   "cell_type": "code",
   "execution_count": 16,
   "outputs": [
    {
     "data": {
      "text/plain": "0.5488135039273248"
     },
     "execution_count": 16,
     "metadata": {},
     "output_type": "execute_result"
    }
   ],
   "source": [
    "np.random.seed(0)\n",
    "np.random.rand()"
   ],
   "metadata": {
    "collapsed": false,
    "ExecuteTime": {
     "end_time": "2024-07-02T04:43:14.406474800Z",
     "start_time": "2024-07-02T04:43:14.393702400Z"
    }
   },
   "id": "b1fcd8c7e4215d3"
  },
  {
   "cell_type": "code",
   "execution_count": null,
   "outputs": [],
   "source": [],
   "metadata": {
    "collapsed": false
   },
   "id": "cbb8979ce5896e8a"
  }
 ],
 "metadata": {
  "kernelspec": {
   "display_name": "Python 3",
   "language": "python",
   "name": "python3"
  },
  "language_info": {
   "codemirror_mode": {
    "name": "ipython",
    "version": 2
   },
   "file_extension": ".py",
   "mimetype": "text/x-python",
   "name": "python",
   "nbconvert_exporter": "python",
   "pygments_lexer": "ipython2",
   "version": "2.7.6"
  }
 },
 "nbformat": 4,
 "nbformat_minor": 5
}
