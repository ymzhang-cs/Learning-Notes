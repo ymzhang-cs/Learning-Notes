{
 "cells": [
  {
   "cell_type": "code",
   "execution_count": 1,
   "id": "initial_id",
   "metadata": {
    "collapsed": true,
    "ExecuteTime": {
     "end_time": "2024-07-02T04:44:24.374307800Z",
     "start_time": "2024-07-02T04:44:24.330426100Z"
    }
   },
   "outputs": [],
   "source": [
    "import numpy as np"
   ]
  },
  {
   "cell_type": "markdown",
   "source": [
    "## numpy的copy\n",
    "\n",
    "为什么要copy：\n",
    "\n",
    "在numpy中，如果直接将一个数组赋值给另一个数组，那么两个数组会指向同一个内存地址，这样会导致一个数组的值改变，另一个数组的值也会改变。这样的情况在我们处理数据的时候是不希望出现的，所以我们需要使用copy方法来解决这个问题。"
   ],
   "metadata": {
    "collapsed": false
   },
   "id": "f7ef92d076be61e3"
  },
  {
   "cell_type": "code",
   "execution_count": 2,
   "outputs": [
    {
     "data": {
      "text/plain": "array([100,   2,   3,   4])"
     },
     "execution_count": 2,
     "metadata": {},
     "output_type": "execute_result"
    }
   ],
   "source": [
    "a = np.array([1, 2, 3, 4])\n",
    "b = a\n",
    "b[0] = 100\n",
    "a"
   ],
   "metadata": {
    "collapsed": false,
    "ExecuteTime": {
     "end_time": "2024-07-02T04:44:55.713226900Z",
     "start_time": "2024-07-02T04:44:55.696335100Z"
    }
   },
   "id": "1897d14bb07298b3"
  },
  {
   "cell_type": "code",
   "execution_count": 3,
   "outputs": [
    {
     "data": {
      "text/plain": "array([1, 2, 3, 4])"
     },
     "execution_count": 3,
     "metadata": {},
     "output_type": "execute_result"
    }
   ],
   "source": [
    "a = np.array([1, 2, 3, 4])\n",
    "b = a.copy()\n",
    "b[0] = 100\n",
    "a"
   ],
   "metadata": {
    "collapsed": false,
    "ExecuteTime": {
     "end_time": "2024-07-02T04:45:03.642189800Z",
     "start_time": "2024-07-02T04:45:03.640588200Z"
    }
   },
   "id": "6e7218d805a7238c"
  },
  {
   "cell_type": "code",
   "execution_count": null,
   "outputs": [],
   "source": [],
   "metadata": {
    "collapsed": false
   },
   "id": "22fab9e2f3bafe77"
  }
 ],
 "metadata": {
  "kernelspec": {
   "display_name": "Python 3",
   "language": "python",
   "name": "python3"
  },
  "language_info": {
   "codemirror_mode": {
    "name": "ipython",
    "version": 2
   },
   "file_extension": ".py",
   "mimetype": "text/x-python",
   "name": "python",
   "nbconvert_exporter": "python",
   "pygments_lexer": "ipython2",
   "version": "2.7.6"
  }
 },
 "nbformat": 4,
 "nbformat_minor": 5
}
