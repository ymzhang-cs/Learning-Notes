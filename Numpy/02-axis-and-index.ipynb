{
 "cells": [
  {
   "cell_type": "code",
   "execution_count": 1,
   "id": "initial_id",
   "metadata": {
    "collapsed": true,
    "ExecuteTime": {
     "end_time": "2024-07-02T03:56:25.822235Z",
     "start_time": "2024-07-02T03:56:25.781312500Z"
    }
   },
   "outputs": [],
   "source": [
    "import numpy as np"
   ]
  },
  {
   "cell_type": "markdown",
   "source": [
    "## axis 的概念\n",
    "\n",
    "axis = 0: 沿着行的方向进行操作，运算的方向是列\n",
    "axis = 1: 沿着列的方向进行操作，运算的方向是行"
   ],
   "metadata": {
    "collapsed": false
   },
   "id": "dc33cd3f65d8b062"
  },
  {
   "cell_type": "code",
   "execution_count": 2,
   "outputs": [
    {
     "data": {
      "text/plain": "array([[1, 2, 3],\n       [4, 5, 6]])"
     },
     "execution_count": 2,
     "metadata": {},
     "output_type": "execute_result"
    }
   ],
   "source": [
    "a = np.array([[1, 2, 3], [4, 5, 6]])\n",
    "a"
   ],
   "metadata": {
    "collapsed": false,
    "ExecuteTime": {
     "end_time": "2024-07-02T03:57:06.949515Z",
     "start_time": "2024-07-02T03:57:06.911041900Z"
    }
   },
   "id": "7a186b06afcb5077"
  },
  {
   "cell_type": "code",
   "execution_count": 3,
   "outputs": [
    {
     "data": {
      "text/plain": "array([5, 7, 9])"
     },
     "execution_count": 3,
     "metadata": {},
     "output_type": "execute_result"
    }
   ],
   "source": [
    "# 轴方向是行，实际运算方向是列\n",
    "a.sum(axis=0)"
   ],
   "metadata": {
    "collapsed": false,
    "ExecuteTime": {
     "end_time": "2024-07-02T03:57:09.229008Z",
     "start_time": "2024-07-02T03:57:09.220451800Z"
    }
   },
   "id": "f1f09e7d1b2b8471"
  },
  {
   "cell_type": "code",
   "execution_count": 4,
   "outputs": [
    {
     "data": {
      "text/plain": "array([ 6, 15])"
     },
     "execution_count": 4,
     "metadata": {},
     "output_type": "execute_result"
    }
   ],
   "source": [
    "# 轴方向是列，实际运算方向是行\n",
    "a.sum(axis=1)"
   ],
   "metadata": {
    "collapsed": false,
    "ExecuteTime": {
     "end_time": "2024-07-02T03:57:14.942650300Z",
     "start_time": "2024-07-02T03:57:14.932232300Z"
    }
   },
   "id": "7bf0547db3ce009c"
  },
  {
   "cell_type": "code",
   "execution_count": 5,
   "outputs": [
    {
     "data": {
      "text/plain": "array([[1, 2],\n       [3, 4],\n       [5, 6]])"
     },
     "execution_count": 5,
     "metadata": {},
     "output_type": "execute_result"
    }
   ],
   "source": [
    "a.reshape(3, 2) # 3行(axis=0)，2列(axis=1)"
   ],
   "metadata": {
    "collapsed": false,
    "ExecuteTime": {
     "end_time": "2024-07-02T03:59:46.611335800Z",
     "start_time": "2024-07-02T03:59:46.597729Z"
    }
   },
   "id": "30f66b5bf1fccd52"
  },
  {
   "cell_type": "markdown",
   "source": [
    "## numpy 的索引和切片"
   ],
   "metadata": {
    "collapsed": false
   },
   "id": "a09f69151c417627"
  },
  {
   "cell_type": "code",
   "execution_count": 16,
   "outputs": [
    {
     "name": "stdout",
     "output_type": "stream",
     "text": [
      "[0 1 2 3 4 5 6 7 8 9]\n",
      "3\n"
     ]
    }
   ],
   "source": [
    "# 一维数组的索引和切片\n",
    "arr = np.arange(10)\n",
    "print(arr)\n",
    "print(arr[3])"
   ],
   "metadata": {
    "collapsed": false
   },
   "id": "67ad6cd4c8d779bc"
  },
  {
   "cell_type": "code",
   "execution_count": 17,
   "outputs": [
    {
     "data": {
      "text/plain": "array([3, 4, 5])"
     },
     "execution_count": 17,
     "metadata": {},
     "output_type": "execute_result"
    }
   ],
   "source": [
    "arr[3:6]"
   ],
   "metadata": {
    "collapsed": false
   },
   "id": "87dab5ab9e634762"
  },
  {
   "cell_type": "code",
   "execution_count": 18,
   "outputs": [
    {
     "data": {
      "text/plain": "array([ 0,  1,  2, 12, 12, 12,  6,  7,  8,  9])"
     },
     "execution_count": 18,
     "metadata": {},
     "output_type": "execute_result"
    }
   ],
   "source": [
    "arr[3:6] = 12\n",
    "arr"
   ],
   "metadata": {
    "collapsed": false
   },
   "id": "df210764caf15340"
  },
  {
   "cell_type": "code",
   "execution_count": 19,
   "outputs": [
    {
     "data": {
      "text/plain": "array([[1, 2, 3],\n       [4, 5, 6],\n       [7, 8, 9]])"
     },
     "execution_count": 19,
     "metadata": {},
     "output_type": "execute_result"
    }
   ],
   "source": [
    "# 二维数组的索引和切片\n",
    "arr = np.array([[1, 2, 3], [4, 5, 6], [7, 8, 9]])\n",
    "arr"
   ],
   "metadata": {
    "collapsed": false
   },
   "id": "52e35bed677aac1f"
  },
  {
   "cell_type": "code",
   "execution_count": 21,
   "outputs": [
    {
     "data": {
      "text/plain": "array([7, 8, 9])"
     },
     "execution_count": 21,
     "metadata": {},
     "output_type": "execute_result"
    }
   ],
   "source": [
    "arr[2]  # 第三行"
   ],
   "metadata": {
    "collapsed": false
   },
   "id": "9ee94e6fa702f145"
  },
  {
   "cell_type": "code",
   "execution_count": 22,
   "outputs": [
    {
     "data": {
      "text/plain": "array([2, 5, 8])"
     },
     "execution_count": 22,
     "metadata": {},
     "output_type": "execute_result"
    }
   ],
   "source": [
    "arr[:, 1]  # 第二列"
   ],
   "metadata": {
    "collapsed": false
   },
   "id": "c574c8c06b8c5f7"
  },
  {
   "cell_type": "code",
   "execution_count": 23,
   "outputs": [
    {
     "data": {
      "text/plain": "np.int64(5)"
     },
     "execution_count": 23,
     "metadata": {},
     "output_type": "execute_result"
    }
   ],
   "source": [
    "arr[1, 1]  # 第二行第二列"
   ],
   "metadata": {
    "collapsed": false
   },
   "id": "1cc5bc34a4529d40"
  },
  {
   "cell_type": "code",
   "execution_count": 25,
   "outputs": [
    {
     "data": {
      "text/plain": "array([[2, 3],\n       [5, 6]])"
     },
     "execution_count": 25,
     "metadata": {},
     "output_type": "execute_result"
    }
   ],
   "source": [
    "arr[:2, 1:]  # 前两行，后两列。符合左闭右开原则"
   ],
   "metadata": {
    "collapsed": false
   },
   "id": "da4911d697212d8b"
  },
  {
   "cell_type": "code",
   "execution_count": 26,
   "outputs": [
    {
     "data": {
      "text/plain": "array([[2, 3],\n       [8, 9]])"
     },
     "execution_count": 26,
     "metadata": {},
     "output_type": "execute_result"
    }
   ],
   "source": [
    "arr[[0, 2], 1:]  # 第一行和第三行，后两列"
   ],
   "metadata": {
    "collapsed": false
   },
   "id": "581c98915bb9bc5a"
  },
  {
   "cell_type": "markdown",
   "source": [
    "### 布尔型索引"
   ],
   "metadata": {
    "collapsed": false
   },
   "id": "21f7586aa057c77f"
  },
  {
   "cell_type": "code",
   "execution_count": 27,
   "outputs": [
    {
     "data": {
      "text/plain": "array([[ True,  True,  True],\n       [ True, False, False],\n       [False, False, False]])"
     },
     "execution_count": 27,
     "metadata": {},
     "output_type": "execute_result"
    }
   ],
   "source": [
    "arr = np.array([[1, 2, 3], [4, 5, 6], [7, 8, 9]])\n",
    "arr < 5"
   ],
   "metadata": {
    "collapsed": false
   },
   "id": "53f367f5b6c74940"
  },
  {
   "cell_type": "code",
   "execution_count": 29,
   "outputs": [
    {
     "data": {
      "text/plain": "array([[3, 3, 3],\n       [3, 5, 6],\n       [7, 8, 9]])"
     },
     "execution_count": 29,
     "metadata": {},
     "output_type": "execute_result"
    }
   ],
   "source": [
    "arr[arr < 5] = 3\n",
    "arr"
   ],
   "metadata": {
    "collapsed": false
   },
   "id": "296ccf7f5c0e919c"
  },
  {
   "cell_type": "markdown",
   "source": [
    "### 三元运算符 np.where()"
   ],
   "metadata": {
    "collapsed": false
   },
   "id": "c43a2f0bb6bf0e15"
  },
  {
   "cell_type": "code",
   "execution_count": 30,
   "outputs": [
    {
     "data": {
      "text/plain": "array([[0, 0, 0],\n       [0, 1, 1],\n       [1, 1, 1]])"
     },
     "execution_count": 30,
     "metadata": {},
     "output_type": "execute_result"
    }
   ],
   "source": [
    "np.where(arr < 5, 0, 1)"
   ],
   "metadata": {
    "collapsed": false
   },
   "id": "429ec2c583ba7bb5"
  },
  {
   "cell_type": "markdown",
   "source": [
    "### clip()方法\n",
    "\n",
    "clip(a, a_min, a_max, out=None)\n",
    "将数组中的元素限制在a_min, a_max之间，大于a_max的就使得它等于 a_max，小于a_min,的就使得它等于a_min。"
   ],
   "metadata": {
    "collapsed": false
   },
   "id": "19f8f67b91f2ecd0"
  },
  {
   "cell_type": "code",
   "execution_count": 31,
   "outputs": [
    {
     "data": {
      "text/plain": "array([[2, 2, 3],\n       [4, 5, 5],\n       [5, 5, 5]])"
     },
     "execution_count": 31,
     "metadata": {},
     "output_type": "execute_result"
    }
   ],
   "source": [
    "arr = np.array([[1, 2, 3], [4, 5, 6], [7, 8, 9]])\n",
    "arr.clip(2, 5)"
   ],
   "metadata": {
    "collapsed": false
   },
   "id": "b3fe035cdff67f28"
  },
  {
   "cell_type": "code",
   "execution_count": 32,
   "outputs": [
    {
     "data": {
      "text/plain": "array([[2, 2, 3],\n       [4, 5, 5],\n       [5, 5, 5]])"
     },
     "execution_count": 32,
     "metadata": {},
     "output_type": "execute_result"
    }
   ],
   "source": [
    "arr.clip(2, 5, out=arr)"
   ],
   "metadata": {
    "collapsed": false
   },
   "id": "98add1771c935d75"
  },
  {
   "cell_type": "markdown",
   "source": [
    "## 数组的拼接"
   ],
   "metadata": {
    "collapsed": false
   },
   "id": "8d4ed016e5fe2422"
  },
  {
   "cell_type": "code",
   "execution_count": 6,
   "outputs": [
    {
     "data": {
      "text/plain": "array([[1, 2, 3],\n       [4, 5, 6]])"
     },
     "execution_count": 6,
     "metadata": {},
     "output_type": "execute_result"
    }
   ],
   "source": [
    "a1 = np.array([1, 2, 3])\n",
    "a2 = np.array([4, 5, 6])\n",
    "np.vstack((a1, a2))"
   ],
   "metadata": {
    "collapsed": false,
    "ExecuteTime": {
     "end_time": "2024-07-02T04:35:15.956580300Z",
     "start_time": "2024-07-02T04:35:15.949586Z"
    }
   },
   "id": "52a3bd816a3414b0"
  },
  {
   "cell_type": "code",
   "execution_count": 7,
   "outputs": [
    {
     "data": {
      "text/plain": "array([1, 2, 3, 4, 5, 6])"
     },
     "execution_count": 7,
     "metadata": {},
     "output_type": "execute_result"
    }
   ],
   "source": [
    "np.hstack((a1, a2))"
   ],
   "metadata": {
    "collapsed": false,
    "ExecuteTime": {
     "end_time": "2024-07-02T04:35:18.623515Z",
     "start_time": "2024-07-02T04:35:18.608503200Z"
    }
   },
   "id": "cc4063d3b382622c"
  },
  {
   "cell_type": "markdown",
   "source": [
    "## 行列交换"
   ],
   "metadata": {
    "collapsed": false
   },
   "id": "c832b8a4b7696109"
  },
  {
   "cell_type": "code",
   "execution_count": 12,
   "outputs": [
    {
     "data": {
      "text/plain": "array([[1, 2, 3],\n       [4, 5, 6],\n       [7, 8, 9]])"
     },
     "execution_count": 12,
     "metadata": {},
     "output_type": "execute_result"
    }
   ],
   "source": [
    "arr = np.array([[1, 2, 3], [4, 5, 6], [7, 8, 9]])\n",
    "arr"
   ],
   "metadata": {
    "collapsed": false,
    "ExecuteTime": {
     "end_time": "2024-07-02T04:37:08.602631700Z",
     "start_time": "2024-07-02T04:37:08.586663200Z"
    }
   },
   "id": "1f823be93fae6874"
  },
  {
   "cell_type": "code",
   "execution_count": 13,
   "outputs": [
    {
     "data": {
      "text/plain": "array([[4, 5, 6],\n       [1, 2, 3],\n       [7, 8, 9]])"
     },
     "execution_count": 13,
     "metadata": {},
     "output_type": "execute_result"
    }
   ],
   "source": [
    "arr[[0, 1]] = arr[[1, 0]]   # 第一行和第三行交换\n",
    "arr"
   ],
   "metadata": {
    "collapsed": false,
    "ExecuteTime": {
     "end_time": "2024-07-02T04:37:09.098493800Z",
     "start_time": "2024-07-02T04:37:09.089147700Z"
    }
   },
   "id": "faa99bad7ed5bff8"
  },
  {
   "cell_type": "code",
   "execution_count": 14,
   "outputs": [
    {
     "data": {
      "text/plain": "array([[5, 4, 6],\n       [2, 1, 3],\n       [8, 7, 9]])"
     },
     "execution_count": 14,
     "metadata": {},
     "output_type": "execute_result"
    }
   ],
   "source": [
    "arr[:, [0, 1]] = arr[:, [1, 0]]  # 第一列和第二列交换\n",
    "arr"
   ],
   "metadata": {
    "collapsed": false,
    "ExecuteTime": {
     "end_time": "2024-07-02T04:37:23.848096200Z",
     "start_time": "2024-07-02T04:37:23.832446Z"
    }
   },
   "id": "750fdd6927b6397d"
  },
  {
   "cell_type": "code",
   "execution_count": null,
   "outputs": [],
   "source": [],
   "metadata": {
    "collapsed": false
   },
   "id": "cfa0dc94150b7c62"
  }
 ],
 "metadata": {
  "kernelspec": {
   "display_name": "Python 3",
   "language": "python",
   "name": "python3"
  },
  "language_info": {
   "codemirror_mode": {
    "name": "ipython",
    "version": 2
   },
   "file_extension": ".py",
   "mimetype": "text/x-python",
   "name": "python",
   "nbconvert_exporter": "python",
   "pygments_lexer": "ipython2",
   "version": "2.7.6"
  }
 },
 "nbformat": 4,
 "nbformat_minor": 5
}
