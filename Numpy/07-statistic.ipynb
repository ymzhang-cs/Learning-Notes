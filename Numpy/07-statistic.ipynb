{
 "cells": [
  {
   "cell_type": "code",
   "execution_count": 1,
   "id": "initial_id",
   "metadata": {
    "collapsed": true,
    "ExecuteTime": {
     "end_time": "2024-07-02T04:50:36.533972100Z",
     "start_time": "2024-07-02T04:50:36.488268500Z"
    }
   },
   "outputs": [],
   "source": [
    "import numpy as np"
   ]
  },
  {
   "cell_type": "markdown",
   "source": [
    "## Numpy 中的统计方法\n",
    "\n",
    "1. 求和：arr.sum()\n",
    "2. 求平均值：arr.mean()\n",
    "3. 求标准差：arr.std()\n",
    "4. 求方差：arr.var()\n",
    "5. 求最小值：arr.min()\n",
    "6. 求最大值：arr.max()\n",
    "7. 求最小值的索引：arr.argmin()\n",
    "8. 求最大值的索引：arr.argmax()\n",
    "9. 求极差：arr.ptp()\n",
    "10. 求中位数：np.median(arr)"
   ],
   "metadata": {
    "collapsed": false
   },
   "id": "393244bd6e4b02ae"
  },
  {
   "cell_type": "code",
   "execution_count": null,
   "outputs": [],
   "source": [],
   "metadata": {
    "collapsed": false
   },
   "id": "5fb35c78b0f4f500"
  }
 ],
 "metadata": {
  "kernelspec": {
   "display_name": "Python 3",
   "language": "python",
   "name": "python3"
  },
  "language_info": {
   "codemirror_mode": {
    "name": "ipython",
    "version": 2
   },
   "file_extension": ".py",
   "mimetype": "text/x-python",
   "name": "python",
   "nbconvert_exporter": "python",
   "pygments_lexer": "ipython2",
   "version": "2.7.6"
  }
 },
 "nbformat": 4,
 "nbformat_minor": 5
}
