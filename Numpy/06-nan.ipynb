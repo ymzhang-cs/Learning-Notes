{
 "cells": [
  {
   "cell_type": "code",
   "execution_count": 1,
   "id": "initial_id",
   "metadata": {
    "collapsed": true,
    "ExecuteTime": {
     "end_time": "2024-07-02T04:46:19.370015900Z",
     "start_time": "2024-07-02T04:46:19.325620300Z"
    }
   },
   "outputs": [],
   "source": [
    "import numpy as np"
   ]
  },
  {
   "cell_type": "markdown",
   "source": [
    "## numpy 中的 NaN\n",
    "\n",
    "1. NaN 是 numpy 中的缺失值标记\n",
    "2. NaN 是 float 类型\n",
    "3. NaN 与任何值比较都是 False，即 `np.nan != np.nan`\n",
    "4. 利用上面的特性计算 NaN 的个数：`np.sum(arr != arr)`\n",
    "5. 或者使用内置函数：`np.isnan(arr)`"
   ],
   "metadata": {
    "collapsed": false
   },
   "id": "c4085f5efd2f52e4"
  },
  {
   "cell_type": "code",
   "execution_count": 2,
   "outputs": [],
   "source": [
    "arr = np.array([1, 2, np.nan, 3, 4])"
   ],
   "metadata": {
    "collapsed": false,
    "ExecuteTime": {
     "end_time": "2024-07-02T04:49:00.900507600Z",
     "start_time": "2024-07-02T04:49:00.897104600Z"
    }
   },
   "id": "629fc7ff8ac6cd32"
  },
  {
   "cell_type": "code",
   "execution_count": 5,
   "outputs": [
    {
     "data": {
      "text/plain": "np.float64(2.5)"
     },
     "execution_count": 5,
     "metadata": {},
     "output_type": "execute_result"
    }
   ],
   "source": [
    "np.average(arr[~np.isnan(arr)])"
   ],
   "metadata": {
    "collapsed": false,
    "ExecuteTime": {
     "end_time": "2024-07-02T04:49:25.741329500Z",
     "start_time": "2024-07-02T04:49:25.732235300Z"
    }
   },
   "id": "4d5fe9d23f5f7725"
  },
  {
   "cell_type": "code",
   "execution_count": null,
   "outputs": [],
   "source": [],
   "metadata": {
    "collapsed": false
   },
   "id": "a609a9976dd0617b"
  }
 ],
 "metadata": {
  "kernelspec": {
   "display_name": "Python 3",
   "language": "python",
   "name": "python3"
  },
  "language_info": {
   "codemirror_mode": {
    "name": "ipython",
    "version": 2
   },
   "file_extension": ".py",
   "mimetype": "text/x-python",
   "name": "python",
   "nbconvert_exporter": "python",
   "pygments_lexer": "ipython2",
   "version": "2.7.6"
  }
 },
 "nbformat": 4,
 "nbformat_minor": 5
}
