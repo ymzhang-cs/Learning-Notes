{
 "cells": [
  {
   "cell_type": "code",
   "execution_count": 1,
   "id": "initial_id",
   "metadata": {
    "ExecuteTime": {
     "end_time": "2024-06-28T09:50:05.594622400Z",
     "start_time": "2024-06-28T09:50:05.365061700Z"
    },
    "collapsed": true,
    "jupyter": {
     "outputs_hidden": true
    }
   },
   "outputs": [],
   "source": [
    "import pandas as pd\n",
    "import numpy as np"
   ]
  },
  {
   "cell_type": "markdown",
   "id": "cbb31f0e59dd52c2",
   "metadata": {
    "collapsed": false,
    "jp-MarkdownHeadingCollapsed": true
   },
   "source": [
    "## 建立 DataFrame\n",
    "1. 使用 numpy 矩阵\n",
    "2. 使用 {[]}\n",
    "    - `{'name': ['xiaohong', 'xiaowang'], 'age': [15, 16], 'sex': [0, 1]}`\n",
    "3. 使用 [{}]\n",
    "    - `[{'name': 'xiaohong', 'age': 15, 'sex': 0}, {'name': 'xiaowang', 'age': 16, 'sex': 1}]`\n",
    "4. 导入外部数据\n",
    "    - csv\n",
    "      - `pd.read_csv('file_path')`\n",
    "    - HDF5\n",
    "      - `pd.read_hdf('file_path')`"
   ]
  },
  {
   "cell_type": "code",
   "execution_count": 3,
   "id": "a6fed79f33c72e73",
   "metadata": {
    "ExecuteTime": {
     "end_time": "2024-06-28T05:21:27.792227600Z",
     "start_time": "2024-06-28T05:21:27.755562400Z"
    },
    "collapsed": false
   },
   "outputs": [
    {
     "data": {
      "text/html": [
       "<div>\n",
       "<style scoped>\n",
       "    .dataframe tbody tr th:only-of-type {\n",
       "        vertical-align: middle;\n",
       "    }\n",
       "\n",
       "    .dataframe tbody tr th {\n",
       "        vertical-align: top;\n",
       "    }\n",
       "\n",
       "    .dataframe thead th {\n",
       "        text-align: right;\n",
       "    }\n",
       "</style>\n",
       "<table border=\"1\" class=\"dataframe\">\n",
       "  <thead>\n",
       "    <tr style=\"text-align: right;\">\n",
       "      <th></th>\n",
       "      <th>0</th>\n",
       "      <th>1</th>\n",
       "      <th>2</th>\n",
       "      <th>3</th>\n",
       "    </tr>\n",
       "  </thead>\n",
       "  <tbody>\n",
       "    <tr>\n",
       "      <th>0</th>\n",
       "      <td>0</td>\n",
       "      <td>1</td>\n",
       "      <td>2</td>\n",
       "      <td>3</td>\n",
       "    </tr>\n",
       "    <tr>\n",
       "      <th>1</th>\n",
       "      <td>4</td>\n",
       "      <td>5</td>\n",
       "      <td>6</td>\n",
       "      <td>7</td>\n",
       "    </tr>\n",
       "    <tr>\n",
       "      <th>2</th>\n",
       "      <td>8</td>\n",
       "      <td>9</td>\n",
       "      <td>10</td>\n",
       "      <td>11</td>\n",
       "    </tr>\n",
       "  </tbody>\n",
       "</table>\n",
       "</div>"
      ],
      "text/plain": [
       "   0  1   2   3\n",
       "0  0  1   2   3\n",
       "1  4  5   6   7\n",
       "2  8  9  10  11"
      ]
     },
     "execution_count": 3,
     "metadata": {},
     "output_type": "execute_result"
    }
   ],
   "source": [
    "# 使用numpy矩阵建立DataFrame\n",
    "# 竖着的叫index，axis=0\n",
    "# 横着的叫column，axis=1\n",
    "\n",
    "pd.DataFrame(np.arange(12).reshape(3,4))"
   ]
  },
  {
   "cell_type": "code",
   "execution_count": 4,
   "id": "40b1af7d1a294ae6",
   "metadata": {
    "ExecuteTime": {
     "end_time": "2024-06-28T05:23:50.932731500Z",
     "start_time": "2024-06-28T05:23:50.920265100Z"
    },
    "collapsed": false
   },
   "outputs": [
    {
     "data": {
      "text/html": [
       "<div>\n",
       "<style scoped>\n",
       "    .dataframe tbody tr th:only-of-type {\n",
       "        vertical-align: middle;\n",
       "    }\n",
       "\n",
       "    .dataframe tbody tr th {\n",
       "        vertical-align: top;\n",
       "    }\n",
       "\n",
       "    .dataframe thead th {\n",
       "        text-align: right;\n",
       "    }\n",
       "</style>\n",
       "<table border=\"1\" class=\"dataframe\">\n",
       "  <thead>\n",
       "    <tr style=\"text-align: right;\">\n",
       "      <th></th>\n",
       "      <th>A</th>\n",
       "      <th>B</th>\n",
       "      <th>C</th>\n",
       "      <th>D</th>\n",
       "    </tr>\n",
       "  </thead>\n",
       "  <tbody>\n",
       "    <tr>\n",
       "      <th>a</th>\n",
       "      <td>0</td>\n",
       "      <td>1</td>\n",
       "      <td>2</td>\n",
       "      <td>3</td>\n",
       "    </tr>\n",
       "    <tr>\n",
       "      <th>b</th>\n",
       "      <td>4</td>\n",
       "      <td>5</td>\n",
       "      <td>6</td>\n",
       "      <td>7</td>\n",
       "    </tr>\n",
       "    <tr>\n",
       "      <th>c</th>\n",
       "      <td>8</td>\n",
       "      <td>9</td>\n",
       "      <td>10</td>\n",
       "      <td>11</td>\n",
       "    </tr>\n",
       "  </tbody>\n",
       "</table>\n",
       "</div>"
      ],
      "text/plain": [
       "   A  B   C   D\n",
       "a  0  1   2   3\n",
       "b  4  5   6   7\n",
       "c  8  9  10  11"
      ]
     },
     "execution_count": 4,
     "metadata": {},
     "output_type": "execute_result"
    }
   ],
   "source": [
    "# 配置DataFrame的index与column\n",
    "\n",
    "pd.DataFrame(np.arange(12).reshape(3,4), index=list('abc'), columns=list('ABCD'))"
   ]
  },
  {
   "cell_type": "code",
   "execution_count": 6,
   "id": "7c704e2640983014",
   "metadata": {
    "ExecuteTime": {
     "end_time": "2024-06-28T05:28:02.185687300Z",
     "start_time": "2024-06-28T05:28:02.169556800Z"
    },
    "collapsed": false
   },
   "outputs": [
    {
     "data": {
      "text/html": [
       "<div>\n",
       "<style scoped>\n",
       "    .dataframe tbody tr th:only-of-type {\n",
       "        vertical-align: middle;\n",
       "    }\n",
       "\n",
       "    .dataframe tbody tr th {\n",
       "        vertical-align: top;\n",
       "    }\n",
       "\n",
       "    .dataframe thead th {\n",
       "        text-align: right;\n",
       "    }\n",
       "</style>\n",
       "<table border=\"1\" class=\"dataframe\">\n",
       "  <thead>\n",
       "    <tr style=\"text-align: right;\">\n",
       "      <th></th>\n",
       "      <th>name</th>\n",
       "      <th>age</th>\n",
       "      <th>sex</th>\n",
       "    </tr>\n",
       "  </thead>\n",
       "  <tbody>\n",
       "    <tr>\n",
       "      <th>0</th>\n",
       "      <td>xiaohong</td>\n",
       "      <td>15</td>\n",
       "      <td>0</td>\n",
       "    </tr>\n",
       "    <tr>\n",
       "      <th>1</th>\n",
       "      <td>xiaowang</td>\n",
       "      <td>16</td>\n",
       "      <td>1</td>\n",
       "    </tr>\n",
       "  </tbody>\n",
       "</table>\n",
       "</div>"
      ],
      "text/plain": [
       "       name  age  sex\n",
       "0  xiaohong   15    0\n",
       "1  xiaowang   16    1"
      ]
     },
     "execution_count": 6,
     "metadata": {},
     "output_type": "execute_result"
    }
   ],
   "source": [
    "# 使用字典创建DataFrame\n",
    "\n",
    "people = {\n",
    "    'name': ['xiaohong', 'xiaowang'],\n",
    "    'age': [15, 16],\n",
    "    'sex': [0, 1]\n",
    "}\n",
    "\n",
    "df1 = pd.DataFrame(people)\n",
    "df1"
   ]
  },
  {
   "cell_type": "code",
   "execution_count": 3,
   "id": "5ca720877d80e8da",
   "metadata": {
    "ExecuteTime": {
     "end_time": "2024-06-28T09:57:09.241305200Z",
     "start_time": "2024-06-28T09:57:09.223476Z"
    },
    "collapsed": false
   },
   "outputs": [
    {
     "data": {
      "text/html": [
       "<div>\n",
       "<style scoped>\n",
       "    .dataframe tbody tr th:only-of-type {\n",
       "        vertical-align: middle;\n",
       "    }\n",
       "\n",
       "    .dataframe tbody tr th {\n",
       "        vertical-align: top;\n",
       "    }\n",
       "\n",
       "    .dataframe thead th {\n",
       "        text-align: right;\n",
       "    }\n",
       "</style>\n",
       "<table border=\"1\" class=\"dataframe\">\n",
       "  <thead>\n",
       "    <tr style=\"text-align: right;\">\n",
       "      <th></th>\n",
       "      <th>name</th>\n",
       "      <th>age</th>\n",
       "      <th>sex</th>\n",
       "    </tr>\n",
       "  </thead>\n",
       "  <tbody>\n",
       "    <tr>\n",
       "      <th>0</th>\n",
       "      <td>xiaohong</td>\n",
       "      <td>15</td>\n",
       "      <td>0</td>\n",
       "    </tr>\n",
       "    <tr>\n",
       "      <th>1</th>\n",
       "      <td>xiaowang</td>\n",
       "      <td>16</td>\n",
       "      <td>1</td>\n",
       "    </tr>\n",
       "    <tr>\n",
       "      <th>2</th>\n",
       "      <td>xiaochen</td>\n",
       "      <td>17</td>\n",
       "      <td>1</td>\n",
       "    </tr>\n",
       "  </tbody>\n",
       "</table>\n",
       "</div>"
      ],
      "text/plain": [
       "       name  age  sex\n",
       "0  xiaohong   15    0\n",
       "1  xiaowang   16    1\n",
       "2  xiaochen   17    1"
      ]
     },
     "execution_count": 3,
     "metadata": {},
     "output_type": "execute_result"
    }
   ],
   "source": [
    "# 使用[{}]创建DataFrame\n",
    "\n",
    "people2 = [\n",
    "    {'name': 'xiaohong', 'age': 15, 'sex': 0},\n",
    "    {'name': 'xiaowang', 'age': 16, 'sex': 1},\n",
    "    {'name': 'xiaochen', 'age': 17, 'sex': 1}\n",
    "]\n",
    "\n",
    "df2 = pd.DataFrame(people2)\n",
    "df2"
   ]
  },
  {
   "cell_type": "markdown",
   "id": "b40b3f6f6b459463",
   "metadata": {
    "collapsed": false,
    "jp-MarkdownHeadingCollapsed": true
   },
   "source": [
    "## DataFrame 的基础属性\n",
    "\n",
    "1. `df.shape` 得到行列大小\n",
    "2. `df.dtypes` 得到每列的数据类型\n",
    "3. `df.ndim` 得到数据维度（存疑）\n",
    "4. `df.index` 得到行索引\n",
    "5. `df.columns` 得到列索引\n",
    "6. `df.values` 返回二维np.ndarray数组形式"
   ]
  },
  {
   "cell_type": "code",
   "execution_count": 23,
   "id": "307372d16b5c006c",
   "metadata": {
    "ExecuteTime": {
     "end_time": "2024-06-28T05:38:12.879148700Z",
     "start_time": "2024-06-28T05:38:12.872550300Z"
    },
    "collapsed": false
   },
   "outputs": [
    {
     "data": {
      "text/plain": [
       "(3, 3)"
      ]
     },
     "execution_count": 23,
     "metadata": {},
     "output_type": "execute_result"
    }
   ],
   "source": [
    "# 行数列数\n",
    "df2.shape"
   ]
  },
  {
   "cell_type": "code",
   "execution_count": 24,
   "id": "4d0c6b6df5d14e30",
   "metadata": {
    "ExecuteTime": {
     "end_time": "2024-06-28T05:38:13.253578600Z",
     "start_time": "2024-06-28T05:38:13.249040300Z"
    },
    "collapsed": false
   },
   "outputs": [
    {
     "data": {
      "text/plain": [
       "name    object\n",
       "age      int64\n",
       "sex      int64\n",
       "dtype: object"
      ]
     },
     "execution_count": 24,
     "metadata": {},
     "output_type": "execute_result"
    }
   ],
   "source": [
    "# 列数据类型\n",
    "df2.dtypes"
   ]
  },
  {
   "cell_type": "code",
   "execution_count": 25,
   "id": "f77c2076594d78ed",
   "metadata": {
    "ExecuteTime": {
     "end_time": "2024-06-28T05:38:13.600167600Z",
     "start_time": "2024-06-28T05:38:13.598359Z"
    },
    "collapsed": false
   },
   "outputs": [
    {
     "data": {
      "text/plain": [
       "2"
      ]
     },
     "execution_count": 25,
     "metadata": {},
     "output_type": "execute_result"
    }
   ],
   "source": [
    "# 数据维度\n",
    "df2.ndim"
   ]
  },
  {
   "cell_type": "code",
   "execution_count": 26,
   "id": "cd3d33b84b9a3d9c",
   "metadata": {
    "ExecuteTime": {
     "end_time": "2024-06-28T05:38:13.898346900Z",
     "start_time": "2024-06-28T05:38:13.890134400Z"
    },
    "collapsed": false
   },
   "outputs": [
    {
     "data": {
      "text/plain": [
       "RangeIndex(start=0, stop=3, step=1)"
      ]
     },
     "execution_count": 26,
     "metadata": {},
     "output_type": "execute_result"
    }
   ],
   "source": [
    "# 行索引\n",
    "df2.index"
   ]
  },
  {
   "cell_type": "code",
   "execution_count": 27,
   "id": "6db776825acf9d70",
   "metadata": {
    "ExecuteTime": {
     "end_time": "2024-06-28T05:38:14.208266600Z",
     "start_time": "2024-06-28T05:38:14.176464600Z"
    },
    "collapsed": false
   },
   "outputs": [
    {
     "data": {
      "text/plain": [
       "Index(['name', 'age', 'sex'], dtype='object')"
      ]
     },
     "execution_count": 27,
     "metadata": {},
     "output_type": "execute_result"
    }
   ],
   "source": [
    "# 列索引\n",
    "df2.columns"
   ]
  },
  {
   "cell_type": "code",
   "execution_count": 28,
   "id": "a3ca2f3a0d8b32ec",
   "metadata": {
    "ExecuteTime": {
     "end_time": "2024-06-28T05:38:14.573291900Z",
     "start_time": "2024-06-28T05:38:14.571552300Z"
    },
    "collapsed": false
   },
   "outputs": [
    {
     "data": {
      "text/plain": [
       "array([['xiaohong', 15, 0],\n",
       "       ['xiaowang', 16, 1],\n",
       "       ['xiaochen', 17, 1]], dtype=object)"
      ]
     },
     "execution_count": 28,
     "metadata": {},
     "output_type": "execute_result"
    }
   ],
   "source": [
    "# 值，返回二维np.ndarray数组\n",
    "df2.values"
   ]
  },
  {
   "cell_type": "markdown",
   "id": "e99787a41b9c0dd5",
   "metadata": {
    "collapsed": false,
    "jp-MarkdownHeadingCollapsed": true
   },
   "source": [
    "## DataFrame 的基础方法\n",
    "\n",
    "1. `df.head(n)` 显示头部n行，默认5行\n",
    "2. `df.tail(n)` 显示末尾n行，默认5行\n",
    "3. `df.info()` 相关信息概览：行数、列数、列索引、列非空值个数、列类型、内存占用\n",
    "4. `df.describe()` 快速综合统计结果：计数、均值、标准差、最大值、四分位数、最小值\n",
    "5. `df.sort_values(by='column_name', ascending=False, inplace=False)` DataFrame排序"
   ]
  },
  {
   "cell_type": "code",
   "execution_count": 29,
   "id": "f010ab0efe06eb5a",
   "metadata": {
    "ExecuteTime": {
     "end_time": "2024-06-28T05:38:43.936993700Z",
     "start_time": "2024-06-28T05:38:43.921219300Z"
    },
    "collapsed": false
   },
   "outputs": [
    {
     "data": {
      "text/html": [
       "<div>\n",
       "<style scoped>\n",
       "    .dataframe tbody tr th:only-of-type {\n",
       "        vertical-align: middle;\n",
       "    }\n",
       "\n",
       "    .dataframe tbody tr th {\n",
       "        vertical-align: top;\n",
       "    }\n",
       "\n",
       "    .dataframe thead th {\n",
       "        text-align: right;\n",
       "    }\n",
       "</style>\n",
       "<table border=\"1\" class=\"dataframe\">\n",
       "  <thead>\n",
       "    <tr style=\"text-align: right;\">\n",
       "      <th></th>\n",
       "      <th>name</th>\n",
       "      <th>age</th>\n",
       "      <th>sex</th>\n",
       "    </tr>\n",
       "  </thead>\n",
       "  <tbody>\n",
       "    <tr>\n",
       "      <th>0</th>\n",
       "      <td>xiaohong</td>\n",
       "      <td>15</td>\n",
       "      <td>0</td>\n",
       "    </tr>\n",
       "    <tr>\n",
       "      <th>1</th>\n",
       "      <td>xiaowang</td>\n",
       "      <td>16</td>\n",
       "      <td>1</td>\n",
       "    </tr>\n",
       "  </tbody>\n",
       "</table>\n",
       "</div>"
      ],
      "text/plain": [
       "       name  age  sex\n",
       "0  xiaohong   15    0\n",
       "1  xiaowang   16    1"
      ]
     },
     "execution_count": 29,
     "metadata": {},
     "output_type": "execute_result"
    }
   ],
   "source": [
    "# 显示头部n行，默认5行\n",
    "df2.head(2)"
   ]
  },
  {
   "cell_type": "code",
   "execution_count": 30,
   "id": "c81992ae9b44586d",
   "metadata": {
    "ExecuteTime": {
     "end_time": "2024-06-28T05:39:01.725518800Z",
     "start_time": "2024-06-28T05:39:01.709739500Z"
    },
    "collapsed": false
   },
   "outputs": [
    {
     "data": {
      "text/html": [
       "<div>\n",
       "<style scoped>\n",
       "    .dataframe tbody tr th:only-of-type {\n",
       "        vertical-align: middle;\n",
       "    }\n",
       "\n",
       "    .dataframe tbody tr th {\n",
       "        vertical-align: top;\n",
       "    }\n",
       "\n",
       "    .dataframe thead th {\n",
       "        text-align: right;\n",
       "    }\n",
       "</style>\n",
       "<table border=\"1\" class=\"dataframe\">\n",
       "  <thead>\n",
       "    <tr style=\"text-align: right;\">\n",
       "      <th></th>\n",
       "      <th>name</th>\n",
       "      <th>age</th>\n",
       "      <th>sex</th>\n",
       "    </tr>\n",
       "  </thead>\n",
       "  <tbody>\n",
       "    <tr>\n",
       "      <th>1</th>\n",
       "      <td>xiaowang</td>\n",
       "      <td>16</td>\n",
       "      <td>1</td>\n",
       "    </tr>\n",
       "    <tr>\n",
       "      <th>2</th>\n",
       "      <td>xiaochen</td>\n",
       "      <td>17</td>\n",
       "      <td>1</td>\n",
       "    </tr>\n",
       "  </tbody>\n",
       "</table>\n",
       "</div>"
      ],
      "text/plain": [
       "       name  age  sex\n",
       "1  xiaowang   16    1\n",
       "2  xiaochen   17    1"
      ]
     },
     "execution_count": 30,
     "metadata": {},
     "output_type": "execute_result"
    }
   ],
   "source": [
    "# 显示末尾n行，默认5行\n",
    "df2.tail(2)"
   ]
  },
  {
   "cell_type": "code",
   "execution_count": 35,
   "id": "27eb3726d86ea6ef",
   "metadata": {
    "ExecuteTime": {
     "end_time": "2024-06-28T05:40:48.496820900Z",
     "start_time": "2024-06-28T05:40:48.481561600Z"
    },
    "collapsed": false
   },
   "outputs": [
    {
     "name": "stdout",
     "output_type": "stream",
     "text": [
      "<class 'pandas.core.frame.DataFrame'>\n",
      "RangeIndex: 3 entries, 0 to 2\n",
      "Data columns (total 3 columns):\n",
      " #   Column  Non-Null Count  Dtype \n",
      "---  ------  --------------  ----- \n",
      " 0   name    3 non-null      object\n",
      " 1   age     3 non-null      int64 \n",
      " 2   sex     3 non-null      int64 \n",
      "dtypes: int64(2), object(1)\n",
      "memory usage: 204.0+ bytes\n"
     ]
    }
   ],
   "source": [
    "# 相关信息概览：行数、列数、列索引、列非空值个数、列类型、内存占用\n",
    "df2.info()"
   ]
  },
  {
   "cell_type": "code",
   "execution_count": 36,
   "id": "300a738ca0db0b7d",
   "metadata": {
    "ExecuteTime": {
     "end_time": "2024-06-28T05:40:50.043222100Z",
     "start_time": "2024-06-28T05:40:50.027600900Z"
    },
    "collapsed": false
   },
   "outputs": [
    {
     "data": {
      "text/html": [
       "<div>\n",
       "<style scoped>\n",
       "    .dataframe tbody tr th:only-of-type {\n",
       "        vertical-align: middle;\n",
       "    }\n",
       "\n",
       "    .dataframe tbody tr th {\n",
       "        vertical-align: top;\n",
       "    }\n",
       "\n",
       "    .dataframe thead th {\n",
       "        text-align: right;\n",
       "    }\n",
       "</style>\n",
       "<table border=\"1\" class=\"dataframe\">\n",
       "  <thead>\n",
       "    <tr style=\"text-align: right;\">\n",
       "      <th></th>\n",
       "      <th>age</th>\n",
       "      <th>sex</th>\n",
       "    </tr>\n",
       "  </thead>\n",
       "  <tbody>\n",
       "    <tr>\n",
       "      <th>count</th>\n",
       "      <td>3.0</td>\n",
       "      <td>3.000000</td>\n",
       "    </tr>\n",
       "    <tr>\n",
       "      <th>mean</th>\n",
       "      <td>16.0</td>\n",
       "      <td>0.666667</td>\n",
       "    </tr>\n",
       "    <tr>\n",
       "      <th>std</th>\n",
       "      <td>1.0</td>\n",
       "      <td>0.577350</td>\n",
       "    </tr>\n",
       "    <tr>\n",
       "      <th>min</th>\n",
       "      <td>15.0</td>\n",
       "      <td>0.000000</td>\n",
       "    </tr>\n",
       "    <tr>\n",
       "      <th>25%</th>\n",
       "      <td>15.5</td>\n",
       "      <td>0.500000</td>\n",
       "    </tr>\n",
       "    <tr>\n",
       "      <th>50%</th>\n",
       "      <td>16.0</td>\n",
       "      <td>1.000000</td>\n",
       "    </tr>\n",
       "    <tr>\n",
       "      <th>75%</th>\n",
       "      <td>16.5</td>\n",
       "      <td>1.000000</td>\n",
       "    </tr>\n",
       "    <tr>\n",
       "      <th>max</th>\n",
       "      <td>17.0</td>\n",
       "      <td>1.000000</td>\n",
       "    </tr>\n",
       "  </tbody>\n",
       "</table>\n",
       "</div>"
      ],
      "text/plain": [
       "        age       sex\n",
       "count   3.0  3.000000\n",
       "mean   16.0  0.666667\n",
       "std     1.0  0.577350\n",
       "min    15.0  0.000000\n",
       "25%    15.5  0.500000\n",
       "50%    16.0  1.000000\n",
       "75%    16.5  1.000000\n",
       "max    17.0  1.000000"
      ]
     },
     "execution_count": 36,
     "metadata": {},
     "output_type": "execute_result"
    }
   ],
   "source": [
    "# 快速综合统计结果：计数、均值、标准差、最大值、四分位数、最小值\n",
    "# 只有int和float类型的列有\n",
    "\n",
    "df2.describe()"
   ]
  },
  {
   "cell_type": "code",
   "execution_count": 37,
   "id": "2abeb1392663f938",
   "metadata": {
    "ExecuteTime": {
     "end_time": "2024-06-28T05:44:50.464226400Z",
     "start_time": "2024-06-28T05:44:50.456100300Z"
    },
    "collapsed": false
   },
   "outputs": [
    {
     "data": {
      "text/html": [
       "<div>\n",
       "<style scoped>\n",
       "    .dataframe tbody tr th:only-of-type {\n",
       "        vertical-align: middle;\n",
       "    }\n",
       "\n",
       "    .dataframe tbody tr th {\n",
       "        vertical-align: top;\n",
       "    }\n",
       "\n",
       "    .dataframe thead th {\n",
       "        text-align: right;\n",
       "    }\n",
       "</style>\n",
       "<table border=\"1\" class=\"dataframe\">\n",
       "  <thead>\n",
       "    <tr style=\"text-align: right;\">\n",
       "      <th></th>\n",
       "      <th>name</th>\n",
       "      <th>age</th>\n",
       "      <th>sex</th>\n",
       "    </tr>\n",
       "  </thead>\n",
       "  <tbody>\n",
       "    <tr>\n",
       "      <th>2</th>\n",
       "      <td>xiaochen</td>\n",
       "      <td>17</td>\n",
       "      <td>1</td>\n",
       "    </tr>\n",
       "    <tr>\n",
       "      <th>1</th>\n",
       "      <td>xiaowang</td>\n",
       "      <td>16</td>\n",
       "      <td>1</td>\n",
       "    </tr>\n",
       "    <tr>\n",
       "      <th>0</th>\n",
       "      <td>xiaohong</td>\n",
       "      <td>15</td>\n",
       "      <td>0</td>\n",
       "    </tr>\n",
       "  </tbody>\n",
       "</table>\n",
       "</div>"
      ],
      "text/plain": [
       "       name  age  sex\n",
       "2  xiaochen   17    1\n",
       "1  xiaowang   16    1\n",
       "0  xiaohong   15    0"
      ]
     },
     "execution_count": 37,
     "metadata": {},
     "output_type": "execute_result"
    }
   ],
   "source": [
    "# DataFrame排序\n",
    "df2.sort_values(by='age', ascending=False, inplace=False)"
   ]
  },
  {
   "cell_type": "markdown",
   "id": "c42e7f5f8596f756",
   "metadata": {
    "collapsed": false
   },
   "source": [
    "## DataFrame 的索引 - 基础\n",
    "\n",
    "1. `df['column_name']` 选择列\n",
    "2. `df[['column_name1', 'column_name2']]` 选择多列\n",
    "3. `df.loc['index_name', 'column_name']` 选择行列\n",
    "4. `df.loc['index_name1':, ['column_name1', 'column_name2']]` 选择多行多列\n",
    "5. `df.iloc[0, 0]` 选择行列\n",
    "6. `df.iloc[0:2, 0:2]` 选择多行多列\n",
    "\n",
    "注意，冒号前后都是闭区间"
   ]
  },
  {
   "cell_type": "markdown",
   "id": "c0cc696e710ced29",
   "metadata": {
    "collapsed": false,
    "jp-MarkdownHeadingCollapsed": true
   },
   "source": [
    "## DataFrame 的逻辑索引\n",
    "\n",
    "1. `df[df['column_name'] > 10]` 选择满足条件的行\n",
    "2. `df[(df['column_name1'] > 10) & (df['column_name2'] < 20)]` 选择满足条件的行\n",
    "3. `df[(df['column_name1'] > 10) | (df['column_name2'] < 20)]` 选择满足条件的行\n",
    "4. `df[~df['column_name'].str.contains('chen')]` 选择不包含'chen'的行\n",
    "\n",
    "注意，逻辑运算符是 `&` 和 `|`，而不是 `and` 和 `or`\n",
    "\n",
    "原理：`df['column_name'] > 10` 返回一个布尔值的Series，然后根据这个Series选择行"
   ]
  },
  {
   "cell_type": "code",
   "execution_count": 4,
   "id": "4f33556eee814dd9",
   "metadata": {
    "ExecuteTime": {
     "end_time": "2024-06-28T09:57:13.005880700Z",
     "start_time": "2024-06-28T09:57:13.000684600Z"
    },
    "collapsed": false
   },
   "outputs": [
    {
     "data": {
      "text/html": [
       "<div>\n",
       "<style scoped>\n",
       "    .dataframe tbody tr th:only-of-type {\n",
       "        vertical-align: middle;\n",
       "    }\n",
       "\n",
       "    .dataframe tbody tr th {\n",
       "        vertical-align: top;\n",
       "    }\n",
       "\n",
       "    .dataframe thead th {\n",
       "        text-align: right;\n",
       "    }\n",
       "</style>\n",
       "<table border=\"1\" class=\"dataframe\">\n",
       "  <thead>\n",
       "    <tr style=\"text-align: right;\">\n",
       "      <th></th>\n",
       "      <th>name</th>\n",
       "      <th>age</th>\n",
       "      <th>sex</th>\n",
       "    </tr>\n",
       "  </thead>\n",
       "  <tbody>\n",
       "    <tr>\n",
       "      <th>1</th>\n",
       "      <td>xiaowang</td>\n",
       "      <td>16</td>\n",
       "      <td>1</td>\n",
       "    </tr>\n",
       "    <tr>\n",
       "      <th>2</th>\n",
       "      <td>xiaochen</td>\n",
       "      <td>17</td>\n",
       "      <td>1</td>\n",
       "    </tr>\n",
       "  </tbody>\n",
       "</table>\n",
       "</div>"
      ],
      "text/plain": [
       "       name  age  sex\n",
       "1  xiaowang   16    1\n",
       "2  xiaochen   17    1"
      ]
     },
     "execution_count": 4,
     "metadata": {},
     "output_type": "execute_result"
    }
   ],
   "source": [
    "# 筛选出年龄大于15的行\n",
    "df2[df2['age'] > 15]"
   ]
  },
  {
   "cell_type": "code",
   "execution_count": 6,
   "id": "e136b42de6c4baba",
   "metadata": {
    "ExecuteTime": {
     "end_time": "2024-06-28T09:58:43.686263900Z",
     "start_time": "2024-06-28T09:58:43.670125Z"
    },
    "collapsed": false
   },
   "outputs": [
    {
     "data": {
      "text/html": [
       "<div>\n",
       "<style scoped>\n",
       "    .dataframe tbody tr th:only-of-type {\n",
       "        vertical-align: middle;\n",
       "    }\n",
       "\n",
       "    .dataframe tbody tr th {\n",
       "        vertical-align: top;\n",
       "    }\n",
       "\n",
       "    .dataframe thead th {\n",
       "        text-align: right;\n",
       "    }\n",
       "</style>\n",
       "<table border=\"1\" class=\"dataframe\">\n",
       "  <thead>\n",
       "    <tr style=\"text-align: right;\">\n",
       "      <th></th>\n",
       "      <th>name</th>\n",
       "      <th>age</th>\n",
       "      <th>sex</th>\n",
       "    </tr>\n",
       "  </thead>\n",
       "  <tbody>\n",
       "    <tr>\n",
       "      <th>1</th>\n",
       "      <td>xiaowang</td>\n",
       "      <td>16</td>\n",
       "      <td>1</td>\n",
       "    </tr>\n",
       "  </tbody>\n",
       "</table>\n",
       "</div>"
      ],
      "text/plain": [
       "       name  age  sex\n",
       "1  xiaowang   16    1"
      ]
     },
     "execution_count": 6,
     "metadata": {},
     "output_type": "execute_result"
    }
   ],
   "source": [
    "# 筛选出年龄小于17且性别为1的行\n",
    "df2[(df2['age'] < 17) & (df2['sex'] == 1)]"
   ]
  },
  {
   "cell_type": "code",
   "execution_count": 7,
   "id": "d8f645bdbd870a4f",
   "metadata": {
    "ExecuteTime": {
     "end_time": "2024-06-28T09:59:09.661577400Z",
     "start_time": "2024-06-28T09:59:09.646974600Z"
    },
    "collapsed": false
   },
   "outputs": [
    {
     "data": {
      "text/html": [
       "<div>\n",
       "<style scoped>\n",
       "    .dataframe tbody tr th:only-of-type {\n",
       "        vertical-align: middle;\n",
       "    }\n",
       "\n",
       "    .dataframe tbody tr th {\n",
       "        vertical-align: top;\n",
       "    }\n",
       "\n",
       "    .dataframe thead th {\n",
       "        text-align: right;\n",
       "    }\n",
       "</style>\n",
       "<table border=\"1\" class=\"dataframe\">\n",
       "  <thead>\n",
       "    <tr style=\"text-align: right;\">\n",
       "      <th></th>\n",
       "      <th>name</th>\n",
       "      <th>age</th>\n",
       "      <th>sex</th>\n",
       "    </tr>\n",
       "  </thead>\n",
       "  <tbody>\n",
       "    <tr>\n",
       "      <th>2</th>\n",
       "      <td>xiaochen</td>\n",
       "      <td>17</td>\n",
       "      <td>1</td>\n",
       "    </tr>\n",
       "  </tbody>\n",
       "</table>\n",
       "</div>"
      ],
      "text/plain": [
       "       name  age  sex\n",
       "2  xiaochen   17    1"
      ]
     },
     "execution_count": 7,
     "metadata": {},
     "output_type": "execute_result"
    }
   ],
   "source": [
    "# 筛选出姓名包含'chen'的行\n",
    "df2[df2['name'].str.contains('chen')]"
   ]
  },
  {
   "cell_type": "code",
   "execution_count": 8,
   "id": "30f1c2a614c596bb",
   "metadata": {
    "ExecuteTime": {
     "end_time": "2024-06-28T09:59:22.349364800Z",
     "start_time": "2024-06-28T09:59:22.344843Z"
    },
    "collapsed": false
   },
   "outputs": [
    {
     "data": {
      "text/html": [
       "<div>\n",
       "<style scoped>\n",
       "    .dataframe tbody tr th:only-of-type {\n",
       "        vertical-align: middle;\n",
       "    }\n",
       "\n",
       "    .dataframe tbody tr th {\n",
       "        vertical-align: top;\n",
       "    }\n",
       "\n",
       "    .dataframe thead th {\n",
       "        text-align: right;\n",
       "    }\n",
       "</style>\n",
       "<table border=\"1\" class=\"dataframe\">\n",
       "  <thead>\n",
       "    <tr style=\"text-align: right;\">\n",
       "      <th></th>\n",
       "      <th>name</th>\n",
       "      <th>age</th>\n",
       "      <th>sex</th>\n",
       "    </tr>\n",
       "  </thead>\n",
       "  <tbody>\n",
       "    <tr>\n",
       "      <th>0</th>\n",
       "      <td>xiaohong</td>\n",
       "      <td>15</td>\n",
       "      <td>0</td>\n",
       "    </tr>\n",
       "    <tr>\n",
       "      <th>1</th>\n",
       "      <td>xiaowang</td>\n",
       "      <td>16</td>\n",
       "      <td>1</td>\n",
       "    </tr>\n",
       "  </tbody>\n",
       "</table>\n",
       "</div>"
      ],
      "text/plain": [
       "       name  age  sex\n",
       "0  xiaohong   15    0\n",
       "1  xiaowang   16    1"
      ]
     },
     "execution_count": 8,
     "metadata": {},
     "output_type": "execute_result"
    }
   ],
   "source": [
    "# 筛选出姓名不包含'chen'的行\n",
    "df2[~df2['name'].str.contains('chen')]"
   ]
  },
  {
   "cell_type": "markdown",
   "source": [
    "## DataFrame 的操作函数\n",
    "\n",
    "1. `df.join(df2, how='inner')` 连接两个DataFrame\n",
    "2. `df.merge(df2, on='column_name', how='inner')` 连接两个DataFrame\n",
    "3. `df.drop('column_name', axis=1)` 删除列\n",
    "4. `df.drop('index_name', axis=0)` 删除行\n",
    "5. `df.drop_duplicates()` 删除重复值\n",
    "6. `df.replace('old', 'new')` 替换值\n",
    "7. `df.groupby('column_name').sum()` 分组求和"
   ],
   "metadata": {
    "collapsed": false
   },
   "id": "bd6972502db6bf9e"
  },
  {
   "cell_type": "code",
   "execution_count": null,
   "outputs": [],
   "source": [],
   "metadata": {
    "collapsed": false
   },
   "id": "1428218cbd79cb53"
  }
 ],
 "metadata": {
  "kernelspec": {
   "display_name": "Python 3 (ipykernel)",
   "language": "python",
   "name": "python3"
  },
  "language_info": {
   "codemirror_mode": {
    "name": "ipython",
    "version": 3
   },
   "file_extension": ".py",
   "mimetype": "text/x-python",
   "name": "python",
   "nbconvert_exporter": "python",
   "pygments_lexer": "ipython3",
   "version": "3.11.9"
  }
 },
 "nbformat": 4,
 "nbformat_minor": 5
}
