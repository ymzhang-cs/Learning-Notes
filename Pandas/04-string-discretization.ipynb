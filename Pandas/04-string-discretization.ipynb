{
 "cells": [
  {
   "cell_type": "code",
   "execution_count": 1,
   "id": "initial_id",
   "metadata": {
    "collapsed": true,
    "ExecuteTime": {
     "end_time": "2024-06-29T05:51:00.284816Z",
     "start_time": "2024-06-29T05:51:00.072745500Z"
    }
   },
   "outputs": [],
   "source": [
    "import pandas as pd\n",
    "import numpy as np"
   ]
  },
  {
   "cell_type": "markdown",
   "source": [
    "# 字符串离散化\n",
    "\n",
    "1. pd.get_dummies(): 将字符串转换为one-hot编码的离散特征，可接受Series和DataFrame输入\n",
    "    - pd.from_dummies(): 逆过程，将one-hot编码转换为字符串\n",
    "    - pd.Series.str.get_dummies(sep='|'): 将字符串以sep分隔后转换为one-hot编码\n",
    "2. pd.factorize(): 将字符串编码为枚举类型或分类变量，只接受Series输入\n",
    "\n",
    "pd.get_dummies(s).sum() -> s.value_counts() 或使用groupby"
   ],
   "metadata": {
    "collapsed": false
   },
   "id": "b1bc5d8a6bf1bf60"
  },
  {
   "cell_type": "markdown",
   "source": [
    "### pd.get_dummies()\n",
    "\n",
    "- pd.get_dummies()\n",
    "    - 将字符串转换为one-hot编码\n",
    "    - 可以设置dummy_na=True将NaN也作为新的一类\n",
    "    - 输入为DataFrame时，列名会被当做前缀\n",
    "    - 可以设置prefix参数更改前缀\n",
    "    - 只有字符串列会被编码\n",
    "    - 可以设置返回DataFrame的dtype"
   ],
   "metadata": {
    "collapsed": false
   },
   "id": "2f9a5e222b05698f"
  },
  {
   "cell_type": "code",
   "execution_count": 2,
   "outputs": [
    {
     "data": {
      "text/plain": "       a      b      c\n0   True  False  False\n1  False   True  False\n2  False  False   True\n3   True  False  False",
      "text/html": "<div>\n<style scoped>\n    .dataframe tbody tr th:only-of-type {\n        vertical-align: middle;\n    }\n\n    .dataframe tbody tr th {\n        vertical-align: top;\n    }\n\n    .dataframe thead th {\n        text-align: right;\n    }\n</style>\n<table border=\"1\" class=\"dataframe\">\n  <thead>\n    <tr style=\"text-align: right;\">\n      <th></th>\n      <th>a</th>\n      <th>b</th>\n      <th>c</th>\n    </tr>\n  </thead>\n  <tbody>\n    <tr>\n      <th>0</th>\n      <td>True</td>\n      <td>False</td>\n      <td>False</td>\n    </tr>\n    <tr>\n      <th>1</th>\n      <td>False</td>\n      <td>True</td>\n      <td>False</td>\n    </tr>\n    <tr>\n      <th>2</th>\n      <td>False</td>\n      <td>False</td>\n      <td>True</td>\n    </tr>\n    <tr>\n      <th>3</th>\n      <td>True</td>\n      <td>False</td>\n      <td>False</td>\n    </tr>\n  </tbody>\n</table>\n</div>"
     },
     "execution_count": 2,
     "metadata": {},
     "output_type": "execute_result"
    }
   ],
   "source": [
    "# pd.get_dummies()\n",
    "# 将字符串转换为one-hot编码\n",
    "s1 = pd.Series(['a', 'b', 'c', 'a'])\n",
    "pd.get_dummies(s1)"
   ],
   "metadata": {
    "collapsed": false,
    "ExecuteTime": {
     "end_time": "2024-06-29T06:01:56.833055300Z",
     "start_time": "2024-06-29T06:01:56.801803200Z"
    }
   },
   "id": "49a029d7bd6d9c9e"
  },
  {
   "cell_type": "code",
   "execution_count": 4,
   "outputs": [
    {
     "data": {
      "text/plain": "       a      b\n0   True  False\n1  False   True\n2  False  False\n3   True  False",
      "text/html": "<div>\n<style scoped>\n    .dataframe tbody tr th:only-of-type {\n        vertical-align: middle;\n    }\n\n    .dataframe tbody tr th {\n        vertical-align: top;\n    }\n\n    .dataframe thead th {\n        text-align: right;\n    }\n</style>\n<table border=\"1\" class=\"dataframe\">\n  <thead>\n    <tr style=\"text-align: right;\">\n      <th></th>\n      <th>a</th>\n      <th>b</th>\n    </tr>\n  </thead>\n  <tbody>\n    <tr>\n      <th>0</th>\n      <td>True</td>\n      <td>False</td>\n    </tr>\n    <tr>\n      <th>1</th>\n      <td>False</td>\n      <td>True</td>\n    </tr>\n    <tr>\n      <th>2</th>\n      <td>False</td>\n      <td>False</td>\n    </tr>\n    <tr>\n      <th>3</th>\n      <td>True</td>\n      <td>False</td>\n    </tr>\n  </tbody>\n</table>\n</div>"
     },
     "execution_count": 4,
     "metadata": {},
     "output_type": "execute_result"
    }
   ],
   "source": [
    "# 存在NaN时，默认不作为新的一类\n",
    "s2 = pd.Series(['a', 'b', np.nan, 'a'])\n",
    "pd.get_dummies(s2)"
   ],
   "metadata": {
    "collapsed": false,
    "ExecuteTime": {
     "end_time": "2024-06-29T06:03:09.288434200Z",
     "start_time": "2024-06-29T06:03:09.278955200Z"
    }
   },
   "id": "72d34d9b4a078a78"
  },
  {
   "cell_type": "code",
   "execution_count": 5,
   "outputs": [
    {
     "data": {
      "text/plain": "       a      b    NaN\n0   True  False  False\n1  False   True  False\n2  False  False   True\n3   True  False  False",
      "text/html": "<div>\n<style scoped>\n    .dataframe tbody tr th:only-of-type {\n        vertical-align: middle;\n    }\n\n    .dataframe tbody tr th {\n        vertical-align: top;\n    }\n\n    .dataframe thead th {\n        text-align: right;\n    }\n</style>\n<table border=\"1\" class=\"dataframe\">\n  <thead>\n    <tr style=\"text-align: right;\">\n      <th></th>\n      <th>a</th>\n      <th>b</th>\n      <th>NaN</th>\n    </tr>\n  </thead>\n  <tbody>\n    <tr>\n      <th>0</th>\n      <td>True</td>\n      <td>False</td>\n      <td>False</td>\n    </tr>\n    <tr>\n      <th>1</th>\n      <td>False</td>\n      <td>True</td>\n      <td>False</td>\n    </tr>\n    <tr>\n      <th>2</th>\n      <td>False</td>\n      <td>False</td>\n      <td>True</td>\n    </tr>\n    <tr>\n      <th>3</th>\n      <td>True</td>\n      <td>False</td>\n      <td>False</td>\n    </tr>\n  </tbody>\n</table>\n</div>"
     },
     "execution_count": 5,
     "metadata": {},
     "output_type": "execute_result"
    }
   ],
   "source": [
    "# 可以设置dummy_na=True将NaN也作为新的一类\n",
    "pd.get_dummies(s2, dummy_na=True)"
   ],
   "metadata": {
    "collapsed": false,
    "ExecuteTime": {
     "end_time": "2024-06-29T06:03:27.785544100Z",
     "start_time": "2024-06-29T06:03:27.769792500Z"
    }
   },
   "id": "7240afa674a78b3f"
  },
  {
   "cell_type": "code",
   "execution_count": 13,
   "outputs": [
    {
     "data": {
      "text/plain": "   C  col1_a  col1_b  col1_c  col2_a  col2_b  col2_c\n0  1    True   False   False   False    True   False\n1  2   False    True   False    True   False   False\n2  3   False   False    True   False    True   False\n3  4    True   False   False   False   False    True",
      "text/html": "<div>\n<style scoped>\n    .dataframe tbody tr th:only-of-type {\n        vertical-align: middle;\n    }\n\n    .dataframe tbody tr th {\n        vertical-align: top;\n    }\n\n    .dataframe thead th {\n        text-align: right;\n    }\n</style>\n<table border=\"1\" class=\"dataframe\">\n  <thead>\n    <tr style=\"text-align: right;\">\n      <th></th>\n      <th>C</th>\n      <th>col1_a</th>\n      <th>col1_b</th>\n      <th>col1_c</th>\n      <th>col2_a</th>\n      <th>col2_b</th>\n      <th>col2_c</th>\n    </tr>\n  </thead>\n  <tbody>\n    <tr>\n      <th>0</th>\n      <td>1</td>\n      <td>True</td>\n      <td>False</td>\n      <td>False</td>\n      <td>False</td>\n      <td>True</td>\n      <td>False</td>\n    </tr>\n    <tr>\n      <th>1</th>\n      <td>2</td>\n      <td>False</td>\n      <td>True</td>\n      <td>False</td>\n      <td>True</td>\n      <td>False</td>\n      <td>False</td>\n    </tr>\n    <tr>\n      <th>2</th>\n      <td>3</td>\n      <td>False</td>\n      <td>False</td>\n      <td>True</td>\n      <td>False</td>\n      <td>True</td>\n      <td>False</td>\n    </tr>\n    <tr>\n      <th>3</th>\n      <td>4</td>\n      <td>True</td>\n      <td>False</td>\n      <td>False</td>\n      <td>False</td>\n      <td>False</td>\n      <td>True</td>\n    </tr>\n  </tbody>\n</table>\n</div>"
     },
     "execution_count": 13,
     "metadata": {},
     "output_type": "execute_result"
    }
   ],
   "source": [
    "# 输入为DataFrame时，列名会被当做前缀\n",
    "# 可以设置prefix参数更改前缀\n",
    "# 只有字符串列会被编码\n",
    "df1 = pd.DataFrame({'A': ['a', 'b', 'c', 'a'], 'C': [1, 2, 3, 4], 'B': ['b', 'a', 'b', 'c']})\n",
    "pd.get_dummies(df1, prefix=['col1', 'col2'])"
   ],
   "metadata": {
    "collapsed": false,
    "ExecuteTime": {
     "end_time": "2024-06-29T06:09:18.655926500Z",
     "start_time": "2024-06-29T06:09:18.646065700Z"
    }
   },
   "id": "4a25f0d16e21d31f"
  },
  {
   "cell_type": "code",
   "execution_count": 8,
   "outputs": [
    {
     "data": {
      "text/plain": "     a    b    c\n0  1.0  0.0  0.0\n1  0.0  1.0  0.0\n2  0.0  0.0  1.0\n3  1.0  0.0  0.0",
      "text/html": "<div>\n<style scoped>\n    .dataframe tbody tr th:only-of-type {\n        vertical-align: middle;\n    }\n\n    .dataframe tbody tr th {\n        vertical-align: top;\n    }\n\n    .dataframe thead th {\n        text-align: right;\n    }\n</style>\n<table border=\"1\" class=\"dataframe\">\n  <thead>\n    <tr style=\"text-align: right;\">\n      <th></th>\n      <th>a</th>\n      <th>b</th>\n      <th>c</th>\n    </tr>\n  </thead>\n  <tbody>\n    <tr>\n      <th>0</th>\n      <td>1.0</td>\n      <td>0.0</td>\n      <td>0.0</td>\n    </tr>\n    <tr>\n      <th>1</th>\n      <td>0.0</td>\n      <td>1.0</td>\n      <td>0.0</td>\n    </tr>\n    <tr>\n      <th>2</th>\n      <td>0.0</td>\n      <td>0.0</td>\n      <td>1.0</td>\n    </tr>\n    <tr>\n      <th>3</th>\n      <td>1.0</td>\n      <td>0.0</td>\n      <td>0.0</td>\n    </tr>\n  </tbody>\n</table>\n</div>"
     },
     "execution_count": 8,
     "metadata": {},
     "output_type": "execute_result"
    }
   ],
   "source": [
    "# 指定返回DataFrame的dtype\n",
    "pd.get_dummies(s1, dtype=float)"
   ],
   "metadata": {
    "collapsed": false,
    "ExecuteTime": {
     "end_time": "2024-06-29T06:06:38.687487400Z",
     "start_time": "2024-06-29T06:06:38.681917900Z"
    }
   },
   "id": "f8705ad9988b4052"
  },
  {
   "cell_type": "markdown",
   "source": [
    "### pd.from_dummies()\n",
    "\n",
    "- pd.from_dummies()\n",
    "    - 逆过程，将one-hot编码转换为字符串\n",
    "    - 列名中包含前缀时，需要指定sep参数"
   ],
   "metadata": {
    "collapsed": false
   },
   "id": "eb19921c2b8a1508"
  },
  {
   "cell_type": "code",
   "execution_count": 29,
   "outputs": [
    {
     "data": {
      "text/plain": "     A_a    A_b    A_c    B_a    B_b    B_c\n0   True  False  False  False   True  False\n1  False   True  False   True  False  False\n2  False  False   True  False   True  False\n3   True  False  False  False  False   True",
      "text/html": "<div>\n<style scoped>\n    .dataframe tbody tr th:only-of-type {\n        vertical-align: middle;\n    }\n\n    .dataframe tbody tr th {\n        vertical-align: top;\n    }\n\n    .dataframe thead th {\n        text-align: right;\n    }\n</style>\n<table border=\"1\" class=\"dataframe\">\n  <thead>\n    <tr style=\"text-align: right;\">\n      <th></th>\n      <th>A_a</th>\n      <th>A_b</th>\n      <th>A_c</th>\n      <th>B_a</th>\n      <th>B_b</th>\n      <th>B_c</th>\n    </tr>\n  </thead>\n  <tbody>\n    <tr>\n      <th>0</th>\n      <td>True</td>\n      <td>False</td>\n      <td>False</td>\n      <td>False</td>\n      <td>True</td>\n      <td>False</td>\n    </tr>\n    <tr>\n      <th>1</th>\n      <td>False</td>\n      <td>True</td>\n      <td>False</td>\n      <td>True</td>\n      <td>False</td>\n      <td>False</td>\n    </tr>\n    <tr>\n      <th>2</th>\n      <td>False</td>\n      <td>False</td>\n      <td>True</td>\n      <td>False</td>\n      <td>True</td>\n      <td>False</td>\n    </tr>\n    <tr>\n      <th>3</th>\n      <td>True</td>\n      <td>False</td>\n      <td>False</td>\n      <td>False</td>\n      <td>False</td>\n      <td>True</td>\n    </tr>\n  </tbody>\n</table>\n</div>"
     },
     "execution_count": 29,
     "metadata": {},
     "output_type": "execute_result"
    }
   ],
   "source": [
    "# pd.from_dummies()\n",
    "# 逆过程，将one-hot编码转换为字符串\n",
    "df2 = pd.get_dummies(df1)\n",
    "df2 = df2.loc[:, ~df2.columns.str.startswith('C')]\n",
    "df2"
   ],
   "metadata": {
    "collapsed": false,
    "ExecuteTime": {
     "end_time": "2024-06-29T06:23:43.788604500Z",
     "start_time": "2024-06-29T06:23:43.780718Z"
    }
   },
   "id": "9bb87670f0c3aff6"
  },
  {
   "cell_type": "code",
   "execution_count": 30,
   "outputs": [
    {
     "data": {
      "text/plain": "   A  B\n0  a  b\n1  b  a\n2  c  b\n3  a  c",
      "text/html": "<div>\n<style scoped>\n    .dataframe tbody tr th:only-of-type {\n        vertical-align: middle;\n    }\n\n    .dataframe tbody tr th {\n        vertical-align: top;\n    }\n\n    .dataframe thead th {\n        text-align: right;\n    }\n</style>\n<table border=\"1\" class=\"dataframe\">\n  <thead>\n    <tr style=\"text-align: right;\">\n      <th></th>\n      <th>A</th>\n      <th>B</th>\n    </tr>\n  </thead>\n  <tbody>\n    <tr>\n      <th>0</th>\n      <td>a</td>\n      <td>b</td>\n    </tr>\n    <tr>\n      <th>1</th>\n      <td>b</td>\n      <td>a</td>\n    </tr>\n    <tr>\n      <th>2</th>\n      <td>c</td>\n      <td>b</td>\n    </tr>\n    <tr>\n      <th>3</th>\n      <td>a</td>\n      <td>c</td>\n    </tr>\n  </tbody>\n</table>\n</div>"
     },
     "execution_count": 30,
     "metadata": {},
     "output_type": "execute_result"
    }
   ],
   "source": [
    "# 由于列名中包含前缀，需要指定sep参数\n",
    "pd.from_dummies(df2, sep='_')"
   ],
   "metadata": {
    "collapsed": false,
    "ExecuteTime": {
     "end_time": "2024-06-29T06:23:44.629311200Z",
     "start_time": "2024-06-29T06:23:44.615823500Z"
    }
   },
   "id": "3fb26e4c9f420ccb"
  },
  {
   "cell_type": "markdown",
   "source": [
    "### pd.Series.str.get_dummies(sep='|')\n",
    "\n",
    "- pd.Series.str.get_dummies(sep='|')\n",
    "    - 将字符串以sep分隔后转换为one-hot编码"
   ],
   "metadata": {
    "collapsed": false
   },
   "id": "e8fee670b9dfc611"
  },
  {
   "cell_type": "code",
   "execution_count": 15,
   "outputs": [
    {
     "data": {
      "text/plain": "   a  b  c\n0  1  1  0\n1  1  1  1\n2  0  0  1\n3  1  0  0",
      "text/html": "<div>\n<style scoped>\n    .dataframe tbody tr th:only-of-type {\n        vertical-align: middle;\n    }\n\n    .dataframe tbody tr th {\n        vertical-align: top;\n    }\n\n    .dataframe thead th {\n        text-align: right;\n    }\n</style>\n<table border=\"1\" class=\"dataframe\">\n  <thead>\n    <tr style=\"text-align: right;\">\n      <th></th>\n      <th>a</th>\n      <th>b</th>\n      <th>c</th>\n    </tr>\n  </thead>\n  <tbody>\n    <tr>\n      <th>0</th>\n      <td>1</td>\n      <td>1</td>\n      <td>0</td>\n    </tr>\n    <tr>\n      <th>1</th>\n      <td>1</td>\n      <td>1</td>\n      <td>1</td>\n    </tr>\n    <tr>\n      <th>2</th>\n      <td>0</td>\n      <td>0</td>\n      <td>1</td>\n    </tr>\n    <tr>\n      <th>3</th>\n      <td>1</td>\n      <td>0</td>\n      <td>0</td>\n    </tr>\n  </tbody>\n</table>\n</div>"
     },
     "execution_count": 15,
     "metadata": {},
     "output_type": "execute_result"
    }
   ],
   "source": [
    "# pd.Series.str.get_dummies(sep='|')\n",
    "# 将字符串以sep分隔后转换为one-hot编码\n",
    "s3 = pd.Series(['a|b', 'b|c|a', 'c', 'a'])\n",
    "s3.str.get_dummies(sep='|')"
   ],
   "metadata": {
    "collapsed": false,
    "ExecuteTime": {
     "end_time": "2024-06-29T06:13:31.639738600Z",
     "start_time": "2024-06-29T06:13:31.635356500Z"
    }
   },
   "id": "ea2b7a569fa32406"
  },
  {
   "cell_type": "markdown",
   "source": [
    "### pd.get_dummies(s).sum() -> s.value_counts()"
   ],
   "metadata": {
    "collapsed": false
   },
   "id": "9ea5d215358c36ba"
  },
  {
   "cell_type": "code",
   "execution_count": 45,
   "outputs": [
    {
     "data": {
      "text/plain": "a    2\nb    1\ndtype: int64"
     },
     "execution_count": 45,
     "metadata": {},
     "output_type": "execute_result"
    }
   ],
   "source": [
    "s2 = pd.Series(['a', 'b', np.nan, 'a'])\n",
    "pd.get_dummies(s2).sum()"
   ],
   "metadata": {
    "collapsed": false,
    "ExecuteTime": {
     "end_time": "2024-06-29T06:53:43.763729300Z",
     "start_time": "2024-06-29T06:53:43.747733200Z"
    }
   },
   "id": "9d9fbf7c22ebae91"
  },
  {
   "cell_type": "code",
   "execution_count": 46,
   "outputs": [
    {
     "data": {
      "text/plain": "a    2\nb    1\nName: count, dtype: int64"
     },
     "execution_count": 46,
     "metadata": {},
     "output_type": "execute_result"
    }
   ],
   "source": [
    "s2.value_counts()"
   ],
   "metadata": {
    "collapsed": false,
    "ExecuteTime": {
     "end_time": "2024-06-29T06:53:51.170818100Z",
     "start_time": "2024-06-29T06:53:51.152959300Z"
    }
   },
   "id": "2806709b0901c48e"
  },
  {
   "cell_type": "markdown",
   "source": [
    "### pd.factorize()\n",
    "\n",
    "- pd.factorize()\n",
    "    - 将字符串编码为枚举类型或分类变量"
   ],
   "metadata": {
    "collapsed": false
   },
   "id": "dbd476deb6018f65"
  },
  {
   "cell_type": "code",
   "execution_count": 32,
   "outputs": [],
   "source": [
    "# pd.factorize()\n",
    "# 将字符串编码为枚举类型或分类变量\n",
    "s4 = pd.Series(['a', 'b', 'c', 'a'])\n",
    "codes, uniques = pd.factorize(s4)"
   ],
   "metadata": {
    "collapsed": false,
    "ExecuteTime": {
     "end_time": "2024-06-29T06:30:11.593212600Z",
     "start_time": "2024-06-29T06:30:11.589938300Z"
    }
   },
   "id": "167449bfd96d15dd"
  },
  {
   "cell_type": "code",
   "execution_count": 33,
   "outputs": [
    {
     "data": {
      "text/plain": "array([0, 1, 2, 0])"
     },
     "execution_count": 33,
     "metadata": {},
     "output_type": "execute_result"
    }
   ],
   "source": [
    "codes"
   ],
   "metadata": {
    "collapsed": false,
    "ExecuteTime": {
     "end_time": "2024-06-29T06:30:16.712973600Z",
     "start_time": "2024-06-29T06:30:16.703319300Z"
    }
   },
   "id": "b0b85f901b3e455a"
  },
  {
   "cell_type": "code",
   "execution_count": 34,
   "outputs": [
    {
     "data": {
      "text/plain": "Index(['a', 'b', 'c'], dtype='object')"
     },
     "execution_count": 34,
     "metadata": {},
     "output_type": "execute_result"
    }
   ],
   "source": [
    "uniques"
   ],
   "metadata": {
    "collapsed": false,
    "ExecuteTime": {
     "end_time": "2024-06-29T06:30:19.933023900Z",
     "start_time": "2024-06-29T06:30:19.928815700Z"
    }
   },
   "id": "f87606f6ad673405"
  },
  {
   "cell_type": "code",
   "execution_count": 38,
   "outputs": [
    {
     "data": {
      "text/plain": "array([ 0,  1, -1,  0])"
     },
     "execution_count": 38,
     "metadata": {},
     "output_type": "execute_result"
    }
   ],
   "source": [
    "# 通过指定use_na_sentinel=True，将NaN编码为-1\n",
    "s5 = pd.Series(['a', 'b', np.nan, 'a'])\n",
    "codes, uniques = pd.factorize(s5, use_na_sentinel=True)\n",
    "codes"
   ],
   "metadata": {
    "collapsed": false,
    "ExecuteTime": {
     "end_time": "2024-06-29T06:37:37.629135800Z",
     "start_time": "2024-06-29T06:37:37.613290Z"
    }
   },
   "id": "7c9c5c9e83759bb0"
  },
  {
   "cell_type": "code",
   "execution_count": 39,
   "outputs": [
    {
     "data": {
      "text/plain": "Index(['a', 'b'], dtype='object')"
     },
     "execution_count": 39,
     "metadata": {},
     "output_type": "execute_result"
    }
   ],
   "source": [
    "uniques"
   ],
   "metadata": {
    "collapsed": false,
    "ExecuteTime": {
     "end_time": "2024-06-29T06:37:42.546071400Z",
     "start_time": "2024-06-29T06:37:42.530046500Z"
    }
   },
   "id": "f7ea0c8bf17770bc"
  },
  {
   "cell_type": "code",
   "execution_count": 43,
   "outputs": [
    {
     "data": {
      "text/plain": "   A  B\n0  0  0\n1  1  1\n2  2  0\n3  0  2",
      "text/html": "<div>\n<style scoped>\n    .dataframe tbody tr th:only-of-type {\n        vertical-align: middle;\n    }\n\n    .dataframe tbody tr th {\n        vertical-align: top;\n    }\n\n    .dataframe thead th {\n        text-align: right;\n    }\n</style>\n<table border=\"1\" class=\"dataframe\">\n  <thead>\n    <tr style=\"text-align: right;\">\n      <th></th>\n      <th>A</th>\n      <th>B</th>\n    </tr>\n  </thead>\n  <tbody>\n    <tr>\n      <th>0</th>\n      <td>0</td>\n      <td>0</td>\n    </tr>\n    <tr>\n      <th>1</th>\n      <td>1</td>\n      <td>1</td>\n    </tr>\n    <tr>\n      <th>2</th>\n      <td>2</td>\n      <td>0</td>\n    </tr>\n    <tr>\n      <th>3</th>\n      <td>0</td>\n      <td>2</td>\n    </tr>\n  </tbody>\n</table>\n</div>"
     },
     "execution_count": 43,
     "metadata": {},
     "output_type": "execute_result"
    }
   ],
   "source": [
    "# 要对DataFrame处理，可以使用apply\n",
    "df3 = pd.DataFrame({'A': ['a', 'b', 'c', 'a'], 'B': ['b', 'a', 'b', 'c']})\n",
    "df3.apply(lambda x: pd.factorize(x)[0])"
   ],
   "metadata": {
    "collapsed": false,
    "ExecuteTime": {
     "end_time": "2024-06-29T06:43:58.491616100Z",
     "start_time": "2024-06-29T06:43:58.481284100Z"
    }
   },
   "id": "e50f188c3e0a8807"
  },
  {
   "cell_type": "code",
   "execution_count": null,
   "outputs": [],
   "source": [],
   "metadata": {
    "collapsed": false
   },
   "id": "18335cbbd9c1add8"
  }
 ],
 "metadata": {
  "kernelspec": {
   "display_name": "Python 3",
   "language": "python",
   "name": "python3"
  },
  "language_info": {
   "codemirror_mode": {
    "name": "ipython",
    "version": 2
   },
   "file_extension": ".py",
   "mimetype": "text/x-python",
   "name": "python",
   "nbconvert_exporter": "python",
   "pygments_lexer": "ipython2",
   "version": "2.7.6"
  }
 },
 "nbformat": 4,
 "nbformat_minor": 5
}
