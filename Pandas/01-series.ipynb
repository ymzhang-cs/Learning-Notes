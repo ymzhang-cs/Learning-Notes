{
 "cells": [
  {
   "cell_type": "code",
   "execution_count": 2,
   "id": "initial_id",
   "metadata": {
    "collapsed": true,
    "ExecuteTime": {
     "end_time": "2024-06-29T06:27:22.216728300Z",
     "start_time": "2024-06-29T06:27:21.984577800Z"
    }
   },
   "outputs": [],
   "source": [
    "import pandas as pd"
   ]
  },
  {
   "cell_type": "markdown",
   "source": [
    "## 创建Series\n",
    "1. 通过传入列表创建Series\n",
    "2. 通过传入字典创建Series，指定index\n",
    "3. 通过传入字典创建Series，指定index，没有的index对应值为NaN"
   ],
   "metadata": {
    "collapsed": false
   },
   "id": "aaf24c908b893d"
  },
  {
   "cell_type": "code",
   "execution_count": 2,
   "outputs": [
    {
     "data": {
      "text/plain": "0     5\n1     6\n2    45\n3    48\n4    61\n5     4\n6    64\ndtype: int64"
     },
     "execution_count": 2,
     "metadata": {},
     "output_type": "execute_result"
    }
   ],
   "source": [
    "# 创建Series方法1：传入数据，index默认为数字\n",
    "\n",
    "s1 = pd.Series([5,6,45,48,61,4,64])\n",
    "s1"
   ],
   "metadata": {
    "collapsed": false,
    "ExecuteTime": {
     "end_time": "2024-06-28T10:02:52.985662100Z",
     "start_time": "2024-06-28T10:02:52.981863800Z"
    }
   },
   "id": "3caaea9289880625"
  },
  {
   "cell_type": "code",
   "execution_count": 4,
   "outputs": [
    {
     "data": {
      "text/plain": "a     5\nb     6\nc    45\nd    48\ne    61\nf     4\ng    64\ndtype: int64"
     },
     "execution_count": 4,
     "metadata": {},
     "output_type": "execute_result"
    }
   ],
   "source": [
    "# 创建Series方法2：传入数据，指定index为可迭代对象\n",
    "\n",
    "s2 = pd.Series([5,6,45,48,61,4,64], index=list(\"abcdefg\"))\n",
    "s2"
   ],
   "metadata": {
    "collapsed": false,
    "ExecuteTime": {
     "end_time": "2024-06-27T13:20:28.381291500Z",
     "start_time": "2024-06-27T13:20:28.375173100Z"
    }
   },
   "id": "702e871d9d8a9156"
  },
  {
   "cell_type": "code",
   "execution_count": 5,
   "outputs": [
    {
     "data": {
      "text/plain": "name    xiaohong\nage           15\ntel        10086\ndtype: object"
     },
     "execution_count": 5,
     "metadata": {},
     "output_type": "execute_result"
    }
   ],
   "source": [
    "# 创建Series方法3：传入字典，key为index，value为值\n",
    "\n",
    "s3 = pd.Series({'name': 'xiaohong', 'age': 15, 'tel': 10086})\n",
    "s3"
   ],
   "metadata": {
    "collapsed": false,
    "ExecuteTime": {
     "end_time": "2024-06-27T13:25:05.783949800Z",
     "start_time": "2024-06-27T13:25:05.767169200Z"
    }
   },
   "id": "213bd90da2121af5"
  },
  {
   "cell_type": "code",
   "execution_count": 7,
   "outputs": [
    {
     "data": {
      "text/plain": "name    xiaohong\nage           15\nsex          NaN\ndtype: object"
     },
     "execution_count": 7,
     "metadata": {},
     "output_type": "execute_result"
    }
   ],
   "source": [
    "# 创建Series方法4：传入字典，指定index取交，没有的index对应值为NaN\n",
    "# NaN类型为float\n",
    "\n",
    "s4 = pd.Series({'name': 'xiaohong', 'age': 15, 'tel': 10086}, index=['name', 'age', 'sex'])\n",
    "s4"
   ],
   "metadata": {
    "collapsed": false,
    "ExecuteTime": {
     "end_time": "2024-06-27T13:27:45.837121600Z",
     "start_time": "2024-06-27T13:27:45.828271Z"
    }
   },
   "id": "ba85f92f56b37bea"
  },
  {
   "cell_type": "markdown",
   "source": [
    "## Series的切片与索引\n",
    "1. `s1[0:5:2]`：切片使用方法与列表一致，左闭右开\n",
    "2. `s3[[0,1,2]]`：索引，使用数字序号列表\n",
    "3. `s3[['name', 'tel']]`：索引，使用index列表"
   ],
   "metadata": {
    "collapsed": false
   },
   "id": "4b8da6d5e93490d9"
  },
  {
   "cell_type": "code",
   "execution_count": 4,
   "outputs": [
    {
     "data": {
      "text/plain": "0     5\n2    45\n4    61\ndtype: int64"
     },
     "execution_count": 4,
     "metadata": {},
     "output_type": "execute_result"
    }
   ],
   "source": [
    "# 切片使用方法与列表一致，左闭右开\n",
    "s1[0:5:2]"
   ],
   "metadata": {
    "collapsed": false,
    "ExecuteTime": {
     "end_time": "2024-06-28T10:03:23.207029800Z",
     "start_time": "2024-06-28T10:03:23.174824600Z"
    }
   },
   "id": "82de08f6f5dee509"
  },
  {
   "cell_type": "code",
   "execution_count": 10,
   "outputs": [
    {
     "name": "stderr",
     "output_type": "stream",
     "text": [
      "C:\\Users\\Jemzh\\AppData\\Local\\Temp\\ipykernel_17728\\2125437129.py:3: FutureWarning: Series.__getitem__ treating keys as positions is deprecated. In a future version, integer keys will always be treated as labels (consistent with DataFrame behavior). To access a value by position, use `ser.iloc[pos]`\n",
      "  s3[[0,1,2]]\n"
     ]
    },
    {
     "data": {
      "text/plain": "name    xiaohong\nage           15\ntel        10086\ndtype: object"
     },
     "execution_count": 10,
     "metadata": {},
     "output_type": "execute_result"
    }
   ],
   "source": [
    "# 索引，使用数字序号列表\n",
    "s3[[0,1,2]]"
   ],
   "metadata": {
    "collapsed": false,
    "ExecuteTime": {
     "end_time": "2024-06-27T13:32:12.572350600Z",
     "start_time": "2024-06-27T13:32:12.568502800Z"
    }
   },
   "id": "9a0b3d1ceb3e1087"
  },
  {
   "cell_type": "code",
   "execution_count": 11,
   "outputs": [
    {
     "data": {
      "text/plain": "name    xiaohong\ntel        10086\ndtype: object"
     },
     "execution_count": 11,
     "metadata": {},
     "output_type": "execute_result"
    }
   ],
   "source": [
    "# 索引，使用index列表\n",
    "s3[['name', 'tel']]"
   ],
   "metadata": {
    "collapsed": false,
    "ExecuteTime": {
     "end_time": "2024-06-27T13:33:36.060822700Z",
     "start_time": "2024-06-27T13:33:36.056604900Z"
    }
   },
   "id": "4bd87fd56f289f37"
  },
  {
   "cell_type": "markdown",
   "source": [
    "## Series的逻辑索引\n",
    "1. `s1>10`：逻辑表达式，返回一个布尔值的Series\n",
    "2. `s1[s1>10]`：索引，使用逻辑表达式"
   ],
   "metadata": {
    "collapsed": false
   },
   "id": "5a09830bd27d4968"
  },
  {
   "cell_type": "code",
   "execution_count": 13,
   "outputs": [
    {
     "data": {
      "text/plain": "2    45\n3    48\n4    61\n6    64\ndtype: int64"
     },
     "execution_count": 13,
     "metadata": {},
     "output_type": "execute_result"
    }
   ],
   "source": [
    "# 索引，使用逻辑表达式\n",
    "# 本质上内层s1>10得到的结果是一个7个布尔值的列表，满足的位置为True，不满足为False\n",
    "# 所以这种写法等价于\n",
    "# s1[False, False, True, True, True, False, True]\n",
    "\n",
    "s1[s1>10]"
   ],
   "metadata": {
    "collapsed": false,
    "ExecuteTime": {
     "end_time": "2024-06-27T13:36:42.129674500Z",
     "start_time": "2024-06-27T13:36:42.123286100Z"
    }
   },
   "id": "7721ad3fc1bb22b4"
  },
  {
   "cell_type": "code",
   "execution_count": 14,
   "outputs": [
    {
     "data": {
      "text/plain": "0    False\n1    False\n2     True\n3     True\n4     True\n5    False\n6     True\ndtype: bool"
     },
     "execution_count": 14,
     "metadata": {},
     "output_type": "execute_result"
    }
   ],
   "source": [
    "s1>10"
   ],
   "metadata": {
    "collapsed": false,
    "ExecuteTime": {
     "end_time": "2024-06-27T13:36:50.186360Z",
     "start_time": "2024-06-27T13:36:50.182830300Z"
    }
   },
   "id": "454f791ee0a8a96"
  },
  {
   "cell_type": "markdown",
   "source": [
    "## Series 的基本属性\n",
    "\n",
    "1. `s1.index`：返回index\n",
    "2. `s1.values`：返回values\n",
    "3. `s1.dtype`：返回数据类型"
   ],
   "metadata": {
    "collapsed": false
   },
   "id": "fafe34dec5f03d6b"
  },
  {
   "cell_type": "code",
   "execution_count": 15,
   "outputs": [
    {
     "name": "stdout",
     "output_type": "stream",
     "text": [
      "Index(['a', 'b', 'c', 'd', 'e', 'f', 'g'], dtype='object')\n",
      "[ 5  6 45 48 61  4 64]\n",
      "int64\n",
      "<class 'pandas.core.indexes.base.Index'>\n",
      "<class 'numpy.ndarray'>\n"
     ]
    }
   ],
   "source": [
    "print(s2.index)\n",
    "print(s2.values)\n",
    "print(s2.dtype)\n",
    "print(type(s2.index))\n",
    "print(type(s2.values))"
   ],
   "metadata": {
    "collapsed": false,
    "ExecuteTime": {
     "end_time": "2024-06-27T13:39:00.298515300Z",
     "start_time": "2024-06-27T13:39:00.297986900Z"
    }
   },
   "id": "14b05742ca2be979"
  },
  {
   "cell_type": "markdown",
   "source": [
    "## Series 的基本操作\n",
    "\n",
    "1. `s1.unique()`：返回唯一值\n",
    "2. `s1.nunique()`：返回唯一值的个数\n",
    "3. `s1.value_counts()`：返回每个值出现的次数\n",
    "4. `s1.fillna()`：填充缺失值\n",
    "5. `s1.dropna()`：删除缺失值\n",
    "6. `s1.isnull()`：判断是否为缺失值\n",
    "7. `s1.notnull()`：判断是否不为缺失值\n",
    "8. `s1.isin([5,6])`：判断是否在给定的列表中\n",
    "9. `s1.sort_values()`：排序\n",
    "10. `s1.sort_index()`：按index排序\n",
    "\n",
    "# 数学运算\n",
    "1. `s1.idxmax()`：返回最大值的index\n",
    "2. `s1.idxmin()`：返回最小值的index\n",
    "3. `s1.describe()`：返回描述性统计\n",
    "4. `s1.mean()`：均值\n",
    "5. `s1.median()`：中位数\n",
    "6. `s1.sum()`：求和\n",
    "7. `s1.cumsum()`：累加\n",
    "8. `s1.diff()`：差分\n",
    "9. `s1.pct_change()`：百分比变化\n",
    "\n",
    "# 自定义函数\n",
    "1. `s1.apply()`：自定义函数\n",
    "2. `s1.map()`：映射"
   ],
   "metadata": {
    "collapsed": false
   },
   "id": "181b348c49452353"
  },
  {
   "cell_type": "code",
   "execution_count": 8,
   "outputs": [
    {
     "data": {
      "text/plain": "array([1, 2, 3, 4, 5])"
     },
     "execution_count": 8,
     "metadata": {},
     "output_type": "execute_result"
    }
   ],
   "source": [
    "# 返回唯一值\n",
    "s5 = pd.Series([1,2,3,4,5,1,2,3,4,5,1,2,3,4,5])\n",
    "s5.unique()"
   ],
   "metadata": {
    "collapsed": false,
    "ExecuteTime": {
     "end_time": "2024-06-28T13:43:13.871147300Z",
     "start_time": "2024-06-28T13:43:13.850809800Z"
    }
   },
   "id": "e9c006688d7ba238"
  },
  {
   "cell_type": "code",
   "execution_count": 9,
   "outputs": [
    {
     "data": {
      "text/plain": "5"
     },
     "execution_count": 9,
     "metadata": {},
     "output_type": "execute_result"
    }
   ],
   "source": [
    "# 返回唯一值的个数\n",
    "s5.nunique()"
   ],
   "metadata": {
    "collapsed": false,
    "ExecuteTime": {
     "end_time": "2024-06-28T13:43:26.268795200Z",
     "start_time": "2024-06-28T13:43:26.256723800Z"
    }
   },
   "id": "c2eb80be63883d0b"
  },
  {
   "cell_type": "code",
   "execution_count": 10,
   "outputs": [
    {
     "data": {
      "text/plain": "1    3\n2    3\n3    3\n4    3\n5    3\nName: count, dtype: int64"
     },
     "execution_count": 10,
     "metadata": {},
     "output_type": "execute_result"
    }
   ],
   "source": [
    "# 返回每个值出现的次数\n",
    "s5.value_counts()"
   ],
   "metadata": {
    "collapsed": false,
    "ExecuteTime": {
     "end_time": "2024-06-28T13:43:34.956208500Z",
     "start_time": "2024-06-28T13:43:34.947858900Z"
    }
   },
   "id": "31d18f4a1f7beac3"
  },
  {
   "cell_type": "code",
   "execution_count": 11,
   "outputs": [
    {
     "data": {
      "text/plain": "0     False\n1     False\n2     False\n3     False\n4      True\n5     False\n6     False\n7     False\n8     False\n9      True\n10    False\n11    False\n12    False\n13    False\n14     True\ndtype: bool"
     },
     "execution_count": 11,
     "metadata": {},
     "output_type": "execute_result"
    }
   ],
   "source": [
    "# 判断是否在给定的列表中\n",
    "s5.isin([5,6])"
   ],
   "metadata": {
    "collapsed": false,
    "ExecuteTime": {
     "end_time": "2024-06-28T13:44:01.982002400Z",
     "start_time": "2024-06-28T13:44:01.977768500Z"
    }
   },
   "id": "323994f33b4651cb"
  },
  {
   "cell_type": "markdown",
   "source": [
    "## Series 根据逻辑判断进行掩码\n",
    "\n",
    "1. `s1.where(s1>10)`：只显示符合逻辑的部分，其他部位默认设为NaN\n",
    "2. `s1.where(s1>10, 10)`：设置其他内容为特定值\n",
    "3. `s1.mask(s1>10)`：遮盖掉符合逻辑的部分\n",
    "4. `s1.mask(s1>10, 10)`：mask 设置遮盖内容为特定值"
   ],
   "metadata": {
    "collapsed": false
   },
   "id": "b83bff57bfe926c5"
  },
  {
   "cell_type": "code",
   "execution_count": 16,
   "outputs": [
    {
     "data": {
      "text/plain": "0     NaN\n1     NaN\n2    45.0\n3    48.0\n4    61.0\n5     NaN\n6    64.0\ndtype: float64"
     },
     "execution_count": 16,
     "metadata": {},
     "output_type": "execute_result"
    }
   ],
   "source": [
    "# where 只显示符合逻辑的部分，其他部位默认设为NaN\n",
    "s1.where(s1>10)"
   ],
   "metadata": {
    "collapsed": false,
    "ExecuteTime": {
     "end_time": "2024-06-27T13:43:24.625218700Z",
     "start_time": "2024-06-27T13:43:24.605884500Z"
    }
   },
   "id": "54d009352b6a81e6"
  },
  {
   "cell_type": "code",
   "execution_count": 17,
   "outputs": [
    {
     "data": {
      "text/plain": "0    10\n1    10\n2    45\n3    48\n4    61\n5    10\n6    64\ndtype: int64"
     },
     "execution_count": 17,
     "metadata": {},
     "output_type": "execute_result"
    }
   ],
   "source": [
    "# where 设置其他内容为特定值\n",
    "s1.where(s1>10, 10)"
   ],
   "metadata": {
    "collapsed": false,
    "ExecuteTime": {
     "end_time": "2024-06-27T13:44:28.409402300Z",
     "start_time": "2024-06-27T13:44:28.400741100Z"
    }
   },
   "id": "8c211db84033dbe9"
  },
  {
   "cell_type": "code",
   "execution_count": 21,
   "outputs": [
    {
     "data": {
      "text/plain": "0    5.0\n1    6.0\n2    NaN\n3    NaN\n4    NaN\n5    4.0\n6    NaN\ndtype: float64"
     },
     "execution_count": 21,
     "metadata": {},
     "output_type": "execute_result"
    }
   ],
   "source": [
    "# mask 遮盖掉符合逻辑的部分\n",
    "s1.mask(s1>10)"
   ],
   "metadata": {
    "collapsed": false,
    "ExecuteTime": {
     "end_time": "2024-06-27T13:44:52.386205Z",
     "start_time": "2024-06-27T13:44:52.376702400Z"
    }
   },
   "id": "6e9dded91bd6e72"
  },
  {
   "cell_type": "code",
   "execution_count": 22,
   "outputs": [
    {
     "data": {
      "text/plain": "0     5\n1     6\n2    10\n3    10\n4    10\n5     4\n6    10\ndtype: int64"
     },
     "execution_count": 22,
     "metadata": {},
     "output_type": "execute_result"
    }
   ],
   "source": [
    "# mask 设置遮盖内容为特定值\n",
    "s1.mask(s1>10, 10)"
   ],
   "metadata": {
    "collapsed": false,
    "ExecuteTime": {
     "end_time": "2024-06-27T13:45:11.976320400Z",
     "start_time": "2024-06-27T13:45:11.971759500Z"
    }
   },
   "id": "a84098792b401cf8"
  },
  {
   "cell_type": "markdown",
   "source": [
    "## Series.str 字符串处理\n",
    "\n",
    "1. cat：使用指定的间隔符连接每个元素\n",
    "2. contains：判断是否包含某个字符串\n",
    "3. count：统计某个字符串出现的次数\n",
    "4. endswith, startswith：判断是否以某个字符串结尾或开头\n",
    "5. findall：找到所有匹配的字符串\n",
    "6. get：获取索引位置的字符串\n",
    "7. join：元素如果为列表，将列表中的元素用指定的字符串连接\n",
    "8. len：字符串长度\n",
    "9. lower, upper：大小写转换\n",
    "10. match：判断是否匹配正则表达式\n",
    "11. pad：字符串左右填充\n",
    "12. center：字符串居中\n",
    "13. repeat：重复\n",
    "14. replace：替换\n",
    "15. slice：对每个元素进行切片\n",
    "16. split：分割\n",
    "17. strip, rstrip, lstrip：去除空格"
   ],
   "metadata": {
    "collapsed": false
   },
   "id": "df85db25a6e79435"
  },
  {
   "cell_type": "markdown",
   "source": [
    "## 按位取反`~`符号\n",
    "[0, 1, 0, 1, 0, 1]按位取反后为[1, 0, 1, 0, 1, 0]"
   ],
   "metadata": {
    "collapsed": false
   },
   "id": "d851cb3a83f01e7c"
  },
  {
   "cell_type": "code",
   "execution_count": 6,
   "outputs": [
    {
     "data": {
      "text/plain": "0    False\n1     True\n2    False\n3     True\n4    False\n5    False\n6    False\ndtype: bool"
     },
     "execution_count": 6,
     "metadata": {},
     "output_type": "execute_result"
    }
   ],
   "source": [
    "s6 = pd.Series(list(\"ABCBDEF\"))\n",
    "s6.str.startswith(\"B\")"
   ],
   "metadata": {
    "collapsed": false,
    "ExecuteTime": {
     "end_time": "2024-06-29T06:27:58.774424900Z",
     "start_time": "2024-06-29T06:27:58.767557Z"
    }
   },
   "id": "5ca23eef22b79b3c"
  },
  {
   "cell_type": "code",
   "execution_count": 7,
   "outputs": [
    {
     "data": {
      "text/plain": "0     True\n1    False\n2     True\n3    False\n4     True\n5     True\n6     True\ndtype: bool"
     },
     "execution_count": 7,
     "metadata": {},
     "output_type": "execute_result"
    }
   ],
   "source": [
    "~s6.str.startswith(\"B\")"
   ],
   "metadata": {
    "collapsed": false,
    "ExecuteTime": {
     "end_time": "2024-06-29T06:27:59.150614700Z",
     "start_time": "2024-06-29T06:27:59.144821200Z"
    }
   },
   "id": "d2dfc1f46dd142b9"
  },
  {
   "cell_type": "code",
   "execution_count": 8,
   "outputs": [
    {
     "data": {
      "text/plain": "0    A\n2    C\n4    D\n5    E\n6    F\ndtype: object"
     },
     "execution_count": 8,
     "metadata": {},
     "output_type": "execute_result"
    }
   ],
   "source": [
    "s6[~s6.str.startswith(\"B\")]"
   ],
   "metadata": {
    "collapsed": false,
    "ExecuteTime": {
     "end_time": "2024-06-29T06:28:06.612782800Z",
     "start_time": "2024-06-29T06:28:06.607238500Z"
    }
   },
   "id": "73fbb7ed93f9800a"
  },
  {
   "cell_type": "markdown",
   "source": [
    "## Series.tolist()：将Series转换为列表"
   ],
   "metadata": {
    "collapsed": false
   },
   "id": "f4520789c6f27a06"
  },
  {
   "cell_type": "code",
   "execution_count": 6,
   "outputs": [
    {
     "data": {
      "text/plain": "[5, 6, 45, 48, 61, 4, 64]"
     },
     "execution_count": 6,
     "metadata": {},
     "output_type": "execute_result"
    }
   ],
   "source": [
    "# 将Series转换为列表\n",
    "s1.tolist()"
   ],
   "metadata": {
    "collapsed": false,
    "ExecuteTime": {
     "end_time": "2024-06-28T10:18:43.893264700Z",
     "start_time": "2024-06-28T10:18:43.877237500Z"
    }
   },
   "id": "4025e1175ef113e"
  },
  {
   "cell_type": "code",
   "execution_count": null,
   "outputs": [],
   "source": [],
   "metadata": {
    "collapsed": false
   },
   "id": "a7552c6b8dedcbad"
  }
 ],
 "metadata": {
  "kernelspec": {
   "display_name": "Python 3",
   "language": "python",
   "name": "python3"
  },
  "language_info": {
   "codemirror_mode": {
    "name": "ipython",
    "version": 2
   },
   "file_extension": ".py",
   "mimetype": "text/x-python",
   "name": "python",
   "nbconvert_exporter": "python",
   "pygments_lexer": "ipython2",
   "version": "2.7.6"
  }
 },
 "nbformat": 4,
 "nbformat_minor": 5
}
