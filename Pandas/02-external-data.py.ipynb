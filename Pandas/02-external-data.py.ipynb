{
 "cells": [
  {
   "cell_type": "code",
   "execution_count": 1,
   "id": "initial_id",
   "metadata": {
    "collapsed": true,
    "ExecuteTime": {
     "end_time": "2024-06-27T13:47:43.343162600Z",
     "start_time": "2024-06-27T13:47:43.113057300Z"
    }
   },
   "outputs": [],
   "source": [
    "import pandas as pd"
   ]
  },
  {
   "cell_type": "code",
   "execution_count": null,
   "outputs": [],
   "source": [
    "# 读取CSV文件\n",
    "\n",
    "df1 = pd.read_csv(\"file_path\")"
   ],
   "metadata": {
    "collapsed": false
   },
   "id": "a62a752724443800"
  },
  {
   "cell_type": "code",
   "execution_count": null,
   "outputs": [],
   "source": [
    "# 读取HDF文件\n",
    "\n",
    "df2 = pd.read_hdf(\"file_path\")"
   ],
   "metadata": {
    "collapsed": false
   },
   "id": "4a969570073f89fe"
  }
 ],
 "metadata": {
  "kernelspec": {
   "display_name": "Python 3",
   "language": "python",
   "name": "python3"
  },
  "language_info": {
   "codemirror_mode": {
    "name": "ipython",
    "version": 2
   },
   "file_extension": ".py",
   "mimetype": "text/x-python",
   "name": "python",
   "nbconvert_exporter": "python",
   "pygments_lexer": "ipython2",
   "version": "2.7.6"
  }
 },
 "nbformat": 4,
 "nbformat_minor": 5
}
