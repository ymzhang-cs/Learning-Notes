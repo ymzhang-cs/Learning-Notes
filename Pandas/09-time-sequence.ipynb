{
 "cells": [
  {
   "cell_type": "code",
   "execution_count": 1,
   "id": "initial_id",
   "metadata": {
    "ExecuteTime": {
     "end_time": "2024-06-29T07:55:46.310633900Z",
     "start_time": "2024-06-29T07:55:46.086917Z"
    },
    "collapsed": true,
    "jupyter": {
     "outputs_hidden": true
    }
   },
   "outputs": [],
   "source": [
    "import pandas as pd\n",
    "import numpy as np"
   ]
  },
  {
   "cell_type": "markdown",
   "id": "b27bee0002b4baa4",
   "metadata": {
    "collapsed": false
   },
   "source": [
    "## 生成时间序列\n",
    "\n",
    "pd.date_range(start, end, periods, freq, ...)\n",
    "\n",
    "- start: 开始日期\n",
    "- end: 结束日期\n",
    "- periods: 生成的日期个数\n",
    "- freq: 日期频率，可以是字符串，也可以是pandas的DateOffset对象。常用的频率如下：\n",
    "\n",
    "| 别名 | 描述 |\n",
    "| --- | --- |\n",
    "| B | 工作日频率 |\n",
    "| C | 自定义工作日频率 |\n",
    "| D | 日历日频率 |\n",
    "| W | 周频率 |\n",
    "| ME | 月末频率 |\n",
    "| MS | 月初频率 |\n",
    "| h | 每小时频率 |\n",
    "| min | 每分钟频率 |\n",
    "| s | 每秒频率 |\n",
    "| ms | 毫秒 |\n",
    "| us | 微秒 |\n",
    "| ns | 纳秒 |\n",
    "\n",
    "等，参见 https://pandas.pydata.org/docs/user_guide/timeseries.html#timeseries-offset-aliases\n"
   ]
  },
  {
   "cell_type": "code",
   "execution_count": 2,
   "id": "945ad67f6f058d6e",
   "metadata": {
    "ExecuteTime": {
     "end_time": "2024-06-29T14:21:24.603253500Z",
     "start_time": "2024-06-29T14:21:24.593308800Z"
    },
    "collapsed": false
   },
   "outputs": [
    {
     "data": {
      "text/plain": [
       "DatetimeIndex(['2018-01-01', '2018-01-02', '2018-01-03', '2018-01-04',\n",
       "               '2018-01-05', '2018-01-06', '2018-01-07', '2018-01-08',\n",
       "               '2018-01-09', '2018-01-10'],\n",
       "              dtype='datetime64[ns]', freq='D')"
      ]
     },
     "execution_count": 2,
     "metadata": {},
     "output_type": "execute_result"
    }
   ],
   "source": [
    "# 从2018-01-01开始，生成10个日期，间隔为1天\n",
    "pd.date_range('2018-01-01', periods=10, freq='D')"
   ]
  },
  {
   "cell_type": "code",
   "execution_count": 3,
   "id": "9b4e0f0dbf0841f1",
   "metadata": {
    "ExecuteTime": {
     "end_time": "2024-06-29T14:26:35.252091300Z",
     "start_time": "2024-06-29T14:26:35.241709700Z"
    },
    "collapsed": false
   },
   "outputs": [
    {
     "data": {
      "text/plain": [
       "DatetimeIndex(['2018-01-01', '2018-01-04', '2018-01-07', '2018-01-10'], dtype='datetime64[ns]', freq='3D')"
      ]
     },
     "execution_count": 3,
     "metadata": {},
     "output_type": "execute_result"
    }
   ],
   "source": [
    "# 从2018-01-01开始，至2018-01-10，生成日期，间隔为3天\n",
    "pd.date_range('2018-01-01', '2018-01-10', freq='3D')"
   ]
  },
  {
   "cell_type": "code",
   "execution_count": 4,
   "id": "4a5d30cf8fdaf75d",
   "metadata": {
    "ExecuteTime": {
     "end_time": "2024-06-29T14:27:16.092001900Z",
     "start_time": "2024-06-29T14:27:16.071830600Z"
    },
    "collapsed": false
   },
   "outputs": [
    {
     "name": "stderr",
     "output_type": "stream",
     "text": [
      "C:\\Users\\Jemzh\\AppData\\Local\\Temp\\ipykernel_19520\\3919954747.py:2: FutureWarning: 'M' is deprecated and will be removed in a future version, please use 'ME' instead.\n",
      "  pd.date_range('2018-01-15', periods=10, freq='M')\n"
     ]
    },
    {
     "data": {
      "text/plain": [
       "DatetimeIndex(['2018-01-31', '2018-02-28', '2018-03-31', '2018-04-30',\n",
       "               '2018-05-31', '2018-06-30', '2018-07-31', '2018-08-31',\n",
       "               '2018-09-30', '2018-10-31'],\n",
       "              dtype='datetime64[ns]', freq='ME')"
      ]
     },
     "execution_count": 4,
     "metadata": {},
     "output_type": "execute_result"
    }
   ],
   "source": [
    "# 从2018-01-15开始，生成10个月末时间\n",
    "pd.date_range('2018-01-15', periods=10, freq='ME')"
   ]
  },
  {
   "cell_type": "code",
   "execution_count": 6,
   "id": "b3924e4d959486ee",
   "metadata": {
    "ExecuteTime": {
     "end_time": "2024-06-29T14:29:04.265457100Z",
     "start_time": "2024-06-29T14:29:04.249815500Z"
    },
    "collapsed": false
   },
   "outputs": [
    {
     "name": "stderr",
     "output_type": "stream",
     "text": [
      "C:\\Users\\Jemzh\\AppData\\Local\\Temp\\ipykernel_19520\\134368435.py:2: FutureWarning: 'H' is deprecated and will be removed in a future version, please use 'h' instead.\n",
      "  pd.date_range('2018-01-01', periods=10, freq='2H')\n"
     ]
    },
    {
     "data": {
      "text/plain": [
       "DatetimeIndex(['2018-01-01 00:00:00', '2018-01-01 02:00:00',\n",
       "               '2018-01-01 04:00:00', '2018-01-01 06:00:00',\n",
       "               '2018-01-01 08:00:00', '2018-01-01 10:00:00',\n",
       "               '2018-01-01 12:00:00', '2018-01-01 14:00:00',\n",
       "               '2018-01-01 16:00:00', '2018-01-01 18:00:00'],\n",
       "              dtype='datetime64[ns]', freq='2h')"
      ]
     },
     "execution_count": 6,
     "metadata": {},
     "output_type": "execute_result"
    }
   ],
   "source": [
    "# 从2018-01-01开始，生成10个日期，间隔为2小时\n",
    "pd.date_range('2018-01-01', periods=10, freq='2H')"
   ]
  },
  {
   "cell_type": "markdown",
   "source": [
    "## 字符类型转换为时间序列\n",
    "\n",
    "pd.to_datetime(arg, format, errors, ...)\n",
    "\n",
    "- arg: 需要转换的日期字符串，支持很多格式\n",
    "- format: 日期字符串的格式，有中文一般需要指定格式\n",
    "    - ### 年份 ###\n",
    "    - %Y: 2022, 2023, 2024, ...\n",
    "    - %y: 22, 23, 24, ...\n",
    "    - ### 月份 ###\n",
    "    - %B: January, February, ...\n",
    "    - %b: Jan, Feb, ...\n",
    "    - %m: 01, 02, 03, ...\n",
    "    - ### 日期 ###\n",
    "    - %d: 2位数日期\n",
    "    - %A: Sunday, Monday, ...\n",
    "    - %a: Sun, Mon, ...\n",
    "    - ### 时间 ###\n",
    "    - %H: 24小时制小时\n",
    "    - %M: 分钟\n",
    "    - %S: 秒\n",
    "    - 等，参照 https://docs.python.org/3/library/datetime.html#strftime-and-strptime-format-codes\n",
    "- errors: 如果转换失败，如何处理\n",
    "    - 'raise': 抛出异常\n",
    "    - 'coerce': 转换为NaT\n",
    "    - 'ignore': 忽略错误"
   ],
   "metadata": {
    "collapsed": false
   },
   "id": "e7e240cd05991962"
  },
  {
   "cell_type": "code",
   "execution_count": 7,
   "outputs": [
    {
     "data": {
      "text/plain": "Timestamp('2022-01-01 00:00:00')"
     },
     "execution_count": 7,
     "metadata": {},
     "output_type": "execute_result"
    }
   ],
   "source": [
    "# 将字符串转换为时间序列\n",
    "pd.to_datetime('2022-01-01')"
   ],
   "metadata": {
    "collapsed": false,
    "ExecuteTime": {
     "end_time": "2024-06-29T14:45:53.161513900Z",
     "start_time": "2024-06-29T14:45:53.145674300Z"
    }
   },
   "id": "d58da10823a95dd9"
  },
  {
   "cell_type": "markdown",
   "source": [
    "## 时间序列重采样\n",
    "\n",
    "df.resample(rule, axis, closed, label, ...)\n",
    "\n",
    "使用前提是，时间序列作为索引，可以这样操作：\n",
    "```python\n",
    "df['date'] = pd.to_datetime(df['date'])\n",
    "df.set_index('date', inplace=True)\n",
    "```"
   ],
   "metadata": {
    "collapsed": false
   },
   "id": "cb69eab5f755a374"
  },
  {
   "cell_type": "code",
   "execution_count": 9,
   "outputs": [
    {
     "data": {
      "text/plain": "                 data\n2022-01-01  56.900771\n2022-01-02  53.453226\n2022-01-03  17.532452\n2022-01-04  37.360228\n2022-01-05  68.987939\n...               ...\n2022-04-06  89.005287\n2022-04-07  34.598012\n2022-04-08  28.536810\n2022-04-09  36.281415\n2022-04-10  10.502193\n\n[100 rows x 1 columns]",
      "text/html": "<div>\n<style scoped>\n    .dataframe tbody tr th:only-of-type {\n        vertical-align: middle;\n    }\n\n    .dataframe tbody tr th {\n        vertical-align: top;\n    }\n\n    .dataframe thead th {\n        text-align: right;\n    }\n</style>\n<table border=\"1\" class=\"dataframe\">\n  <thead>\n    <tr style=\"text-align: right;\">\n      <th></th>\n      <th>data</th>\n    </tr>\n  </thead>\n  <tbody>\n    <tr>\n      <th>2022-01-01</th>\n      <td>56.900771</td>\n    </tr>\n    <tr>\n      <th>2022-01-02</th>\n      <td>53.453226</td>\n    </tr>\n    <tr>\n      <th>2022-01-03</th>\n      <td>17.532452</td>\n    </tr>\n    <tr>\n      <th>2022-01-04</th>\n      <td>37.360228</td>\n    </tr>\n    <tr>\n      <th>2022-01-05</th>\n      <td>68.987939</td>\n    </tr>\n    <tr>\n      <th>...</th>\n      <td>...</td>\n    </tr>\n    <tr>\n      <th>2022-04-06</th>\n      <td>89.005287</td>\n    </tr>\n    <tr>\n      <th>2022-04-07</th>\n      <td>34.598012</td>\n    </tr>\n    <tr>\n      <th>2022-04-08</th>\n      <td>28.536810</td>\n    </tr>\n    <tr>\n      <th>2022-04-09</th>\n      <td>36.281415</td>\n    </tr>\n    <tr>\n      <th>2022-04-10</th>\n      <td>10.502193</td>\n    </tr>\n  </tbody>\n</table>\n<p>100 rows × 1 columns</p>\n</div>"
     },
     "execution_count": 9,
     "metadata": {},
     "output_type": "execute_result"
    }
   ],
   "source": [
    "# 创建时间序列\n",
    "\n",
    "df1 = pd.DataFrame(np.random.uniform(0, 100, (100, 1)), index=pd.date_range('2022-01-01', periods=100, freq='D'), columns=['data'])\n",
    "df1"
   ],
   "metadata": {
    "collapsed": false,
    "ExecuteTime": {
     "end_time": "2024-06-29T14:47:41.170840200Z",
     "start_time": "2024-06-29T14:47:41.162717200Z"
    }
   },
   "id": "401d915329983476"
  },
  {
   "cell_type": "code",
   "execution_count": 12,
   "outputs": [
    {
     "data": {
      "text/plain": "<pandas.core.resample.DatetimeIndexResampler object at 0x0000022154F05490>"
     },
     "execution_count": 12,
     "metadata": {},
     "output_type": "execute_result"
    }
   ],
   "source": [
    "df1.resample('ME')"
   ],
   "metadata": {
    "collapsed": false,
    "ExecuteTime": {
     "end_time": "2024-06-29T14:49:18.875367700Z",
     "start_time": "2024-06-29T14:49:18.859491300Z"
    }
   },
   "id": "47027393b7b5ee60"
  },
  {
   "cell_type": "code",
   "execution_count": 13,
   "outputs": [
    {
     "data": {
      "text/plain": "                 data\n2022-01-31  58.052047\n2022-02-28  42.205474\n2022-03-31  50.275925\n2022-04-30  37.119606",
      "text/html": "<div>\n<style scoped>\n    .dataframe tbody tr th:only-of-type {\n        vertical-align: middle;\n    }\n\n    .dataframe tbody tr th {\n        vertical-align: top;\n    }\n\n    .dataframe thead th {\n        text-align: right;\n    }\n</style>\n<table border=\"1\" class=\"dataframe\">\n  <thead>\n    <tr style=\"text-align: right;\">\n      <th></th>\n      <th>data</th>\n    </tr>\n  </thead>\n  <tbody>\n    <tr>\n      <th>2022-01-31</th>\n      <td>58.052047</td>\n    </tr>\n    <tr>\n      <th>2022-02-28</th>\n      <td>42.205474</td>\n    </tr>\n    <tr>\n      <th>2022-03-31</th>\n      <td>50.275925</td>\n    </tr>\n    <tr>\n      <th>2022-04-30</th>\n      <td>37.119606</td>\n    </tr>\n  </tbody>\n</table>\n</div>"
     },
     "execution_count": 13,
     "metadata": {},
     "output_type": "execute_result"
    }
   ],
   "source": [
    "# 按月重采样，取平均值\n",
    "df1.resample('ME').mean()"
   ],
   "metadata": {
    "collapsed": false,
    "ExecuteTime": {
     "end_time": "2024-06-29T14:51:31.250507600Z",
     "start_time": "2024-06-29T14:51:31.230551100Z"
    }
   },
   "id": "4ee8b02140c105a7"
  },
  {
   "cell_type": "code",
   "execution_count": 11,
   "outputs": [
    {
     "data": {
      "text/plain": "            data\n2022-01-01    10\n2022-01-11    10\n2022-01-21    10\n2022-01-31    10\n2022-02-10    10\n2022-02-20    10\n2022-03-02    10\n2022-03-12    10\n2022-03-22    10\n2022-04-01    10",
      "text/html": "<div>\n<style scoped>\n    .dataframe tbody tr th:only-of-type {\n        vertical-align: middle;\n    }\n\n    .dataframe tbody tr th {\n        vertical-align: top;\n    }\n\n    .dataframe thead th {\n        text-align: right;\n    }\n</style>\n<table border=\"1\" class=\"dataframe\">\n  <thead>\n    <tr style=\"text-align: right;\">\n      <th></th>\n      <th>data</th>\n    </tr>\n  </thead>\n  <tbody>\n    <tr>\n      <th>2022-01-01</th>\n      <td>10</td>\n    </tr>\n    <tr>\n      <th>2022-01-11</th>\n      <td>10</td>\n    </tr>\n    <tr>\n      <th>2022-01-21</th>\n      <td>10</td>\n    </tr>\n    <tr>\n      <th>2022-01-31</th>\n      <td>10</td>\n    </tr>\n    <tr>\n      <th>2022-02-10</th>\n      <td>10</td>\n    </tr>\n    <tr>\n      <th>2022-02-20</th>\n      <td>10</td>\n    </tr>\n    <tr>\n      <th>2022-03-02</th>\n      <td>10</td>\n    </tr>\n    <tr>\n      <th>2022-03-12</th>\n      <td>10</td>\n    </tr>\n    <tr>\n      <th>2022-03-22</th>\n      <td>10</td>\n    </tr>\n    <tr>\n      <th>2022-04-01</th>\n      <td>10</td>\n    </tr>\n  </tbody>\n</table>\n</div>"
     },
     "execution_count": 11,
     "metadata": {},
     "output_type": "execute_result"
    }
   ],
   "source": [
    "# 按10天重采样，计数\n",
    "df1.resample('10D').count()"
   ],
   "metadata": {
    "collapsed": false,
    "ExecuteTime": {
     "end_time": "2024-06-29T14:48:42.829303900Z",
     "start_time": "2024-06-29T14:48:42.825959700Z"
    }
   },
   "id": "79ab2b2f85125e01"
  },
  {
   "cell_type": "markdown",
   "source": [
    "## 多列数据合成时间序列\n",
    "\n",
    "pd.PeriodIndex.from_field(year, month, day, hour, minute, second, freq, ...)"
   ],
   "metadata": {
    "collapsed": false
   },
   "id": "28e42338eef12007"
  },
  {
   "cell_type": "code",
   "execution_count": 15,
   "outputs": [
    {
     "data": {
      "text/plain": "   year  month  day  hour  minute  second       data\n0  2022      1    1     0       0       0  23.390849\n1  2022      1    2     1       0       0  82.712738\n2  2022      1    3     2       0       0  10.002480\n3  2022      1    4     3       0       0  20.054213\n4  2022      1    5     4       0       0  33.021155",
      "text/html": "<div>\n<style scoped>\n    .dataframe tbody tr th:only-of-type {\n        vertical-align: middle;\n    }\n\n    .dataframe tbody tr th {\n        vertical-align: top;\n    }\n\n    .dataframe thead th {\n        text-align: right;\n    }\n</style>\n<table border=\"1\" class=\"dataframe\">\n  <thead>\n    <tr style=\"text-align: right;\">\n      <th></th>\n      <th>year</th>\n      <th>month</th>\n      <th>day</th>\n      <th>hour</th>\n      <th>minute</th>\n      <th>second</th>\n      <th>data</th>\n    </tr>\n  </thead>\n  <tbody>\n    <tr>\n      <th>0</th>\n      <td>2022</td>\n      <td>1</td>\n      <td>1</td>\n      <td>0</td>\n      <td>0</td>\n      <td>0</td>\n      <td>23.390849</td>\n    </tr>\n    <tr>\n      <th>1</th>\n      <td>2022</td>\n      <td>1</td>\n      <td>2</td>\n      <td>1</td>\n      <td>0</td>\n      <td>0</td>\n      <td>82.712738</td>\n    </tr>\n    <tr>\n      <th>2</th>\n      <td>2022</td>\n      <td>1</td>\n      <td>3</td>\n      <td>2</td>\n      <td>0</td>\n      <td>0</td>\n      <td>10.002480</td>\n    </tr>\n    <tr>\n      <th>3</th>\n      <td>2022</td>\n      <td>1</td>\n      <td>4</td>\n      <td>3</td>\n      <td>0</td>\n      <td>0</td>\n      <td>20.054213</td>\n    </tr>\n    <tr>\n      <th>4</th>\n      <td>2022</td>\n      <td>1</td>\n      <td>5</td>\n      <td>4</td>\n      <td>0</td>\n      <td>0</td>\n      <td>33.021155</td>\n    </tr>\n  </tbody>\n</table>\n</div>"
     },
     "execution_count": 15,
     "metadata": {},
     "output_type": "execute_result"
    }
   ],
   "source": [
    "# 示例数据\n",
    "data = {\n",
    "    'year': [2022, 2022, 2022, 2022, 2022],\n",
    "    'month': [1, 1, 1, 1, 1],\n",
    "    'day': [1, 2, 3, 4, 5],\n",
    "    'hour': [0, 1, 2, 3, 4],\n",
    "    'minute': [0, 0, 0, 0, 0],\n",
    "    'second': [0, 0, 0, 0, 0],\n",
    "    'data': np.random.uniform(0, 100, 5)\n",
    "}\n",
    "df2 = pd.DataFrame(data)\n",
    "df2"
   ],
   "metadata": {
    "collapsed": false,
    "ExecuteTime": {
     "end_time": "2024-06-29T15:36:52.781581700Z",
     "start_time": "2024-06-29T15:36:52.776711700Z"
    }
   },
   "id": "32bd18ef7100a0cd"
  },
  {
   "cell_type": "code",
   "execution_count": 24,
   "outputs": [],
   "source": [
    "# 合成时间序列\n",
    "period_index = pd.PeriodIndex.from_fields(year=df2['year'], month=df2['month'], day=df2['day'], freq='h')"
   ],
   "metadata": {
    "collapsed": false,
    "ExecuteTime": {
     "end_time": "2024-06-29T15:40:00.965822100Z",
     "start_time": "2024-06-29T15:40:00.963310700Z"
    }
   },
   "id": "e1d8cb5a5ec9d641"
  },
  {
   "cell_type": "code",
   "execution_count": 28,
   "outputs": [
    {
     "data": {
      "text/plain": "            year  month  day  hour  minute  second       data\ndate                                                         \n2022-01-01  2022      1    1     0       0       0  23.390849\n2022-01-02  2022      1    2     1       0       0  82.712738\n2022-01-03  2022      1    3     2       0       0  10.002480\n2022-01-04  2022      1    4     3       0       0  20.054213\n2022-01-05  2022      1    5     4       0       0  33.021155",
      "text/html": "<div>\n<style scoped>\n    .dataframe tbody tr th:only-of-type {\n        vertical-align: middle;\n    }\n\n    .dataframe tbody tr th {\n        vertical-align: top;\n    }\n\n    .dataframe thead th {\n        text-align: right;\n    }\n</style>\n<table border=\"1\" class=\"dataframe\">\n  <thead>\n    <tr style=\"text-align: right;\">\n      <th></th>\n      <th>year</th>\n      <th>month</th>\n      <th>day</th>\n      <th>hour</th>\n      <th>minute</th>\n      <th>second</th>\n      <th>data</th>\n    </tr>\n    <tr>\n      <th>date</th>\n      <th></th>\n      <th></th>\n      <th></th>\n      <th></th>\n      <th></th>\n      <th></th>\n      <th></th>\n    </tr>\n  </thead>\n  <tbody>\n    <tr>\n      <th>2022-01-01</th>\n      <td>2022</td>\n      <td>1</td>\n      <td>1</td>\n      <td>0</td>\n      <td>0</td>\n      <td>0</td>\n      <td>23.390849</td>\n    </tr>\n    <tr>\n      <th>2022-01-02</th>\n      <td>2022</td>\n      <td>1</td>\n      <td>2</td>\n      <td>1</td>\n      <td>0</td>\n      <td>0</td>\n      <td>82.712738</td>\n    </tr>\n    <tr>\n      <th>2022-01-03</th>\n      <td>2022</td>\n      <td>1</td>\n      <td>3</td>\n      <td>2</td>\n      <td>0</td>\n      <td>0</td>\n      <td>10.002480</td>\n    </tr>\n    <tr>\n      <th>2022-01-04</th>\n      <td>2022</td>\n      <td>1</td>\n      <td>4</td>\n      <td>3</td>\n      <td>0</td>\n      <td>0</td>\n      <td>20.054213</td>\n    </tr>\n    <tr>\n      <th>2022-01-05</th>\n      <td>2022</td>\n      <td>1</td>\n      <td>5</td>\n      <td>4</td>\n      <td>0</td>\n      <td>0</td>\n      <td>33.021155</td>\n    </tr>\n  </tbody>\n</table>\n</div>"
     },
     "execution_count": 28,
     "metadata": {},
     "output_type": "execute_result"
    }
   ],
   "source": [
    "# 将合成时间序列设置为索引\n",
    "df2['date'] = period_index.to_timestamp() # 将PeriodIndex转换为时间序列再设置为索引\n",
    "df2.set_index('date', inplace=True)\n",
    "df2"
   ],
   "metadata": {
    "collapsed": false,
    "ExecuteTime": {
     "end_time": "2024-06-29T15:42:00.681211800Z",
     "start_time": "2024-06-29T15:42:00.668041200Z"
    }
   },
   "id": "f4c941758e573931"
  },
  {
   "cell_type": "code",
   "execution_count": 29,
   "outputs": [
    {
     "data": {
      "text/plain": "              year  month  day  hour  minute  second       data\ndate                                                           \n2022-01-01  2022.0    1.0  1.0   0.0     0.0     0.0  23.390849\n2022-01-02  2022.0    1.0  2.0   1.0     0.0     0.0  82.712738\n2022-01-03  2022.0    1.0  3.0   2.0     0.0     0.0  10.002480\n2022-01-04  2022.0    1.0  4.0   3.0     0.0     0.0  20.054213\n2022-01-05  2022.0    1.0  5.0   4.0     0.0     0.0  33.021155",
      "text/html": "<div>\n<style scoped>\n    .dataframe tbody tr th:only-of-type {\n        vertical-align: middle;\n    }\n\n    .dataframe tbody tr th {\n        vertical-align: top;\n    }\n\n    .dataframe thead th {\n        text-align: right;\n    }\n</style>\n<table border=\"1\" class=\"dataframe\">\n  <thead>\n    <tr style=\"text-align: right;\">\n      <th></th>\n      <th>year</th>\n      <th>month</th>\n      <th>day</th>\n      <th>hour</th>\n      <th>minute</th>\n      <th>second</th>\n      <th>data</th>\n    </tr>\n    <tr>\n      <th>date</th>\n      <th></th>\n      <th></th>\n      <th></th>\n      <th></th>\n      <th></th>\n      <th></th>\n      <th></th>\n    </tr>\n  </thead>\n  <tbody>\n    <tr>\n      <th>2022-01-01</th>\n      <td>2022.0</td>\n      <td>1.0</td>\n      <td>1.0</td>\n      <td>0.0</td>\n      <td>0.0</td>\n      <td>0.0</td>\n      <td>23.390849</td>\n    </tr>\n    <tr>\n      <th>2022-01-02</th>\n      <td>2022.0</td>\n      <td>1.0</td>\n      <td>2.0</td>\n      <td>1.0</td>\n      <td>0.0</td>\n      <td>0.0</td>\n      <td>82.712738</td>\n    </tr>\n    <tr>\n      <th>2022-01-03</th>\n      <td>2022.0</td>\n      <td>1.0</td>\n      <td>3.0</td>\n      <td>2.0</td>\n      <td>0.0</td>\n      <td>0.0</td>\n      <td>10.002480</td>\n    </tr>\n    <tr>\n      <th>2022-01-04</th>\n      <td>2022.0</td>\n      <td>1.0</td>\n      <td>4.0</td>\n      <td>3.0</td>\n      <td>0.0</td>\n      <td>0.0</td>\n      <td>20.054213</td>\n    </tr>\n    <tr>\n      <th>2022-01-05</th>\n      <td>2022.0</td>\n      <td>1.0</td>\n      <td>5.0</td>\n      <td>4.0</td>\n      <td>0.0</td>\n      <td>0.0</td>\n      <td>33.021155</td>\n    </tr>\n  </tbody>\n</table>\n</div>"
     },
     "execution_count": 29,
     "metadata": {},
     "output_type": "execute_result"
    }
   ],
   "source": [
    "df2.resample('D').mean()"
   ],
   "metadata": {
    "collapsed": false,
    "ExecuteTime": {
     "end_time": "2024-06-29T15:42:02.009581700Z",
     "start_time": "2024-06-29T15:42:01.999358600Z"
    }
   },
   "id": "bf42b09a57705884"
  },
  {
   "cell_type": "code",
   "execution_count": 31,
   "outputs": [
    {
     "data": {
      "text/plain": "              year  month  day  hour  minute  second       data\ndate                                                           \n2022-01-31  2022.0    1.0  3.0   2.0     0.0     0.0  33.836287",
      "text/html": "<div>\n<style scoped>\n    .dataframe tbody tr th:only-of-type {\n        vertical-align: middle;\n    }\n\n    .dataframe tbody tr th {\n        vertical-align: top;\n    }\n\n    .dataframe thead th {\n        text-align: right;\n    }\n</style>\n<table border=\"1\" class=\"dataframe\">\n  <thead>\n    <tr style=\"text-align: right;\">\n      <th></th>\n      <th>year</th>\n      <th>month</th>\n      <th>day</th>\n      <th>hour</th>\n      <th>minute</th>\n      <th>second</th>\n      <th>data</th>\n    </tr>\n    <tr>\n      <th>date</th>\n      <th></th>\n      <th></th>\n      <th></th>\n      <th></th>\n      <th></th>\n      <th></th>\n      <th></th>\n    </tr>\n  </thead>\n  <tbody>\n    <tr>\n      <th>2022-01-31</th>\n      <td>2022.0</td>\n      <td>1.0</td>\n      <td>3.0</td>\n      <td>2.0</td>\n      <td>0.0</td>\n      <td>0.0</td>\n      <td>33.836287</td>\n    </tr>\n  </tbody>\n</table>\n</div>"
     },
     "execution_count": 31,
     "metadata": {},
     "output_type": "execute_result"
    }
   ],
   "source": [
    "df2.resample('ME').mean()"
   ],
   "metadata": {
    "collapsed": false,
    "ExecuteTime": {
     "end_time": "2024-06-29T15:42:52.998600300Z",
     "start_time": "2024-06-29T15:42:52.986611900Z"
    }
   },
   "id": "4d47d1842cc5d7a2"
  },
  {
   "cell_type": "code",
   "execution_count": null,
   "outputs": [],
   "source": [],
   "metadata": {
    "collapsed": false
   },
   "id": "aae350df0a429065"
  }
 ],
 "metadata": {
  "kernelspec": {
   "display_name": "Python 3 (ipykernel)",
   "language": "python",
   "name": "python3"
  },
  "language_info": {
   "codemirror_mode": {
    "name": "ipython",
    "version": 3
   },
   "file_extension": ".py",
   "mimetype": "text/x-python",
   "name": "python",
   "nbconvert_exporter": "python",
   "pygments_lexer": "ipython3",
   "version": "3.11.9"
  }
 },
 "nbformat": 4,
 "nbformat_minor": 5
}
